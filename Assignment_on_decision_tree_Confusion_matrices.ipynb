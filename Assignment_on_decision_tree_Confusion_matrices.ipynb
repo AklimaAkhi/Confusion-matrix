{
 "cells": [
  {
   "cell_type": "code",
   "execution_count": 1,
   "id": "80f4dbcc",
   "metadata": {},
   "outputs": [],
   "source": [
    "import pandas as pd\n",
    "import matplotlib.pyplot as plt\n",
    "import seaborn as sns"
   ]
  },
  {
   "cell_type": "code",
   "execution_count": 2,
   "id": "fade6b19",
   "metadata": {},
   "outputs": [],
   "source": [
    "df= pd.read_csv('Smoking Data.csv')"
   ]
  },
  {
   "cell_type": "code",
   "execution_count": 3,
   "id": "f88215eb",
   "metadata": {},
   "outputs": [
    {
     "data": {
      "text/html": [
       "<div>\n",
       "<style scoped>\n",
       "    .dataframe tbody tr th:only-of-type {\n",
       "        vertical-align: middle;\n",
       "    }\n",
       "\n",
       "    .dataframe tbody tr th {\n",
       "        vertical-align: top;\n",
       "    }\n",
       "\n",
       "    .dataframe thead th {\n",
       "        text-align: right;\n",
       "    }\n",
       "</style>\n",
       "<table border=\"1\" class=\"dataframe\">\n",
       "  <thead>\n",
       "    <tr style=\"text-align: right;\">\n",
       "      <th></th>\n",
       "      <th>region</th>\n",
       "      <th>age</th>\n",
       "      <th>sex</th>\n",
       "      <th>bmi</th>\n",
       "      <th>children</th>\n",
       "      <th>smoker</th>\n",
       "    </tr>\n",
       "  </thead>\n",
       "  <tbody>\n",
       "    <tr>\n",
       "      <th>0</th>\n",
       "      <td>southwest</td>\n",
       "      <td>19</td>\n",
       "      <td>female</td>\n",
       "      <td>27.900</td>\n",
       "      <td>0</td>\n",
       "      <td>yes</td>\n",
       "    </tr>\n",
       "    <tr>\n",
       "      <th>1</th>\n",
       "      <td>southeast</td>\n",
       "      <td>18</td>\n",
       "      <td>male</td>\n",
       "      <td>33.770</td>\n",
       "      <td>1</td>\n",
       "      <td>no</td>\n",
       "    </tr>\n",
       "    <tr>\n",
       "      <th>2</th>\n",
       "      <td>southeast</td>\n",
       "      <td>28</td>\n",
       "      <td>male</td>\n",
       "      <td>33.000</td>\n",
       "      <td>3</td>\n",
       "      <td>no</td>\n",
       "    </tr>\n",
       "    <tr>\n",
       "      <th>3</th>\n",
       "      <td>northwest</td>\n",
       "      <td>33</td>\n",
       "      <td>male</td>\n",
       "      <td>22.705</td>\n",
       "      <td>0</td>\n",
       "      <td>no</td>\n",
       "    </tr>\n",
       "    <tr>\n",
       "      <th>4</th>\n",
       "      <td>northwest</td>\n",
       "      <td>32</td>\n",
       "      <td>male</td>\n",
       "      <td>28.880</td>\n",
       "      <td>0</td>\n",
       "      <td>no</td>\n",
       "    </tr>\n",
       "  </tbody>\n",
       "</table>\n",
       "</div>"
      ],
      "text/plain": [
       "      region  age     sex     bmi  children smoker\n",
       "0  southwest   19  female  27.900         0    yes\n",
       "1  southeast   18    male  33.770         1     no\n",
       "2  southeast   28    male  33.000         3     no\n",
       "3  northwest   33    male  22.705         0     no\n",
       "4  northwest   32    male  28.880         0     no"
      ]
     },
     "execution_count": 3,
     "metadata": {},
     "output_type": "execute_result"
    }
   ],
   "source": [
    "df.head()"
   ]
  },
  {
   "cell_type": "markdown",
   "id": "20688b3c",
   "metadata": {},
   "source": [
    "# Encoding data"
   ]
  },
  {
   "cell_type": "code",
   "execution_count": 4,
   "id": "70c26e17",
   "metadata": {},
   "outputs": [],
   "source": [
    "from sklearn.preprocessing import LabelEncoder"
   ]
  },
  {
   "cell_type": "code",
   "execution_count": 5,
   "id": "f244f0be",
   "metadata": {},
   "outputs": [],
   "source": [
    "le= LabelEncoder()"
   ]
  },
  {
   "cell_type": "code",
   "execution_count": 6,
   "id": "829c950a",
   "metadata": {},
   "outputs": [],
   "source": [
    "from pandas.core.dtypes.common import is_numeric_dtype\n",
    "for column in df.columns:\n",
    "    if is_numeric_dtype(df[column]):\n",
    "        continue\n",
    "    else:\n",
    "        df[column]= le.fit_transform(df[column])"
   ]
  },
  {
   "cell_type": "code",
   "execution_count": 7,
   "id": "4c643e07",
   "metadata": {},
   "outputs": [
    {
     "data": {
      "text/html": [
       "<div>\n",
       "<style scoped>\n",
       "    .dataframe tbody tr th:only-of-type {\n",
       "        vertical-align: middle;\n",
       "    }\n",
       "\n",
       "    .dataframe tbody tr th {\n",
       "        vertical-align: top;\n",
       "    }\n",
       "\n",
       "    .dataframe thead th {\n",
       "        text-align: right;\n",
       "    }\n",
       "</style>\n",
       "<table border=\"1\" class=\"dataframe\">\n",
       "  <thead>\n",
       "    <tr style=\"text-align: right;\">\n",
       "      <th></th>\n",
       "      <th>region</th>\n",
       "      <th>age</th>\n",
       "      <th>sex</th>\n",
       "      <th>bmi</th>\n",
       "      <th>children</th>\n",
       "      <th>smoker</th>\n",
       "    </tr>\n",
       "  </thead>\n",
       "  <tbody>\n",
       "    <tr>\n",
       "      <th>0</th>\n",
       "      <td>3</td>\n",
       "      <td>19</td>\n",
       "      <td>0</td>\n",
       "      <td>27.900</td>\n",
       "      <td>0</td>\n",
       "      <td>1</td>\n",
       "    </tr>\n",
       "    <tr>\n",
       "      <th>1</th>\n",
       "      <td>2</td>\n",
       "      <td>18</td>\n",
       "      <td>1</td>\n",
       "      <td>33.770</td>\n",
       "      <td>1</td>\n",
       "      <td>0</td>\n",
       "    </tr>\n",
       "    <tr>\n",
       "      <th>2</th>\n",
       "      <td>2</td>\n",
       "      <td>28</td>\n",
       "      <td>1</td>\n",
       "      <td>33.000</td>\n",
       "      <td>3</td>\n",
       "      <td>0</td>\n",
       "    </tr>\n",
       "    <tr>\n",
       "      <th>3</th>\n",
       "      <td>1</td>\n",
       "      <td>33</td>\n",
       "      <td>1</td>\n",
       "      <td>22.705</td>\n",
       "      <td>0</td>\n",
       "      <td>0</td>\n",
       "    </tr>\n",
       "    <tr>\n",
       "      <th>4</th>\n",
       "      <td>1</td>\n",
       "      <td>32</td>\n",
       "      <td>1</td>\n",
       "      <td>28.880</td>\n",
       "      <td>0</td>\n",
       "      <td>0</td>\n",
       "    </tr>\n",
       "  </tbody>\n",
       "</table>\n",
       "</div>"
      ],
      "text/plain": [
       "   region  age  sex     bmi  children  smoker\n",
       "0       3   19    0  27.900         0       1\n",
       "1       2   18    1  33.770         1       0\n",
       "2       2   28    1  33.000         3       0\n",
       "3       1   33    1  22.705         0       0\n",
       "4       1   32    1  28.880         0       0"
      ]
     },
     "execution_count": 7,
     "metadata": {},
     "output_type": "execute_result"
    }
   ],
   "source": [
    "df.head()"
   ]
  },
  {
   "cell_type": "code",
   "execution_count": 8,
   "id": "a6c1748b",
   "metadata": {},
   "outputs": [],
   "source": [
    "y=df['smoker']"
   ]
  },
  {
   "cell_type": "code",
   "execution_count": 9,
   "id": "bb75cb5f",
   "metadata": {},
   "outputs": [],
   "source": [
    "X=df.drop('smoker', axis=1)"
   ]
  },
  {
   "cell_type": "code",
   "execution_count": 10,
   "id": "eebc7d82",
   "metadata": {},
   "outputs": [
    {
     "data": {
      "text/html": [
       "<div>\n",
       "<style scoped>\n",
       "    .dataframe tbody tr th:only-of-type {\n",
       "        vertical-align: middle;\n",
       "    }\n",
       "\n",
       "    .dataframe tbody tr th {\n",
       "        vertical-align: top;\n",
       "    }\n",
       "\n",
       "    .dataframe thead th {\n",
       "        text-align: right;\n",
       "    }\n",
       "</style>\n",
       "<table border=\"1\" class=\"dataframe\">\n",
       "  <thead>\n",
       "    <tr style=\"text-align: right;\">\n",
       "      <th></th>\n",
       "      <th>region</th>\n",
       "      <th>age</th>\n",
       "      <th>sex</th>\n",
       "      <th>bmi</th>\n",
       "      <th>children</th>\n",
       "    </tr>\n",
       "  </thead>\n",
       "  <tbody>\n",
       "    <tr>\n",
       "      <th>0</th>\n",
       "      <td>3</td>\n",
       "      <td>19</td>\n",
       "      <td>0</td>\n",
       "      <td>27.900</td>\n",
       "      <td>0</td>\n",
       "    </tr>\n",
       "    <tr>\n",
       "      <th>1</th>\n",
       "      <td>2</td>\n",
       "      <td>18</td>\n",
       "      <td>1</td>\n",
       "      <td>33.770</td>\n",
       "      <td>1</td>\n",
       "    </tr>\n",
       "    <tr>\n",
       "      <th>2</th>\n",
       "      <td>2</td>\n",
       "      <td>28</td>\n",
       "      <td>1</td>\n",
       "      <td>33.000</td>\n",
       "      <td>3</td>\n",
       "    </tr>\n",
       "    <tr>\n",
       "      <th>3</th>\n",
       "      <td>1</td>\n",
       "      <td>33</td>\n",
       "      <td>1</td>\n",
       "      <td>22.705</td>\n",
       "      <td>0</td>\n",
       "    </tr>\n",
       "    <tr>\n",
       "      <th>4</th>\n",
       "      <td>1</td>\n",
       "      <td>32</td>\n",
       "      <td>1</td>\n",
       "      <td>28.880</td>\n",
       "      <td>0</td>\n",
       "    </tr>\n",
       "  </tbody>\n",
       "</table>\n",
       "</div>"
      ],
      "text/plain": [
       "   region  age  sex     bmi  children\n",
       "0       3   19    0  27.900         0\n",
       "1       2   18    1  33.770         1\n",
       "2       2   28    1  33.000         3\n",
       "3       1   33    1  22.705         0\n",
       "4       1   32    1  28.880         0"
      ]
     },
     "execution_count": 10,
     "metadata": {},
     "output_type": "execute_result"
    }
   ],
   "source": [
    "X.head()"
   ]
  },
  {
   "cell_type": "markdown",
   "id": "fa0a217a",
   "metadata": {},
   "source": [
    "# Classification with decision tree algorithm"
   ]
  },
  {
   "cell_type": "code",
   "execution_count": 11,
   "id": "d4785148",
   "metadata": {},
   "outputs": [],
   "source": [
    "from sklearn.tree import DecisionTreeClassifier"
   ]
  },
  {
   "cell_type": "code",
   "execution_count": 12,
   "id": "4e53ebbb",
   "metadata": {},
   "outputs": [],
   "source": [
    "clf=DecisionTreeClassifier()"
   ]
  },
  {
   "cell_type": "markdown",
   "id": "664cf911",
   "metadata": {},
   "source": [
    "# for classification split data into 70%train and 30%test data"
   ]
  },
  {
   "cell_type": "code",
   "execution_count": 13,
   "id": "8e2d4e76",
   "metadata": {},
   "outputs": [],
   "source": [
    "from sklearn.model_selection import train_test_split"
   ]
  },
  {
   "cell_type": "code",
   "execution_count": 14,
   "id": "1c7d6cd6",
   "metadata": {},
   "outputs": [],
   "source": [
    "xtrain, xtest, ytrain, ytest= train_test_split(X,y, test_size=.30, random_state=1)"
   ]
  },
  {
   "cell_type": "code",
   "execution_count": 15,
   "id": "a7c338fb",
   "metadata": {},
   "outputs": [
    {
     "data": {
      "text/html": [
       "<div>\n",
       "<style scoped>\n",
       "    .dataframe tbody tr th:only-of-type {\n",
       "        vertical-align: middle;\n",
       "    }\n",
       "\n",
       "    .dataframe tbody tr th {\n",
       "        vertical-align: top;\n",
       "    }\n",
       "\n",
       "    .dataframe thead th {\n",
       "        text-align: right;\n",
       "    }\n",
       "</style>\n",
       "<table border=\"1\" class=\"dataframe\">\n",
       "  <thead>\n",
       "    <tr style=\"text-align: right;\">\n",
       "      <th></th>\n",
       "      <th>region</th>\n",
       "      <th>age</th>\n",
       "      <th>sex</th>\n",
       "      <th>bmi</th>\n",
       "      <th>children</th>\n",
       "    </tr>\n",
       "  </thead>\n",
       "  <tbody>\n",
       "    <tr>\n",
       "      <th>744</th>\n",
       "      <td>1</td>\n",
       "      <td>50</td>\n",
       "      <td>1</td>\n",
       "      <td>26.41</td>\n",
       "      <td>0</td>\n",
       "    </tr>\n",
       "    <tr>\n",
       "      <th>363</th>\n",
       "      <td>3</td>\n",
       "      <td>21</td>\n",
       "      <td>0</td>\n",
       "      <td>26.40</td>\n",
       "      <td>1</td>\n",
       "    </tr>\n",
       "    <tr>\n",
       "      <th>10</th>\n",
       "      <td>0</td>\n",
       "      <td>25</td>\n",
       "      <td>1</td>\n",
       "      <td>26.22</td>\n",
       "      <td>0</td>\n",
       "    </tr>\n",
       "    <tr>\n",
       "      <th>970</th>\n",
       "      <td>2</td>\n",
       "      <td>50</td>\n",
       "      <td>0</td>\n",
       "      <td>28.16</td>\n",
       "      <td>3</td>\n",
       "    </tr>\n",
       "    <tr>\n",
       "      <th>634</th>\n",
       "      <td>3</td>\n",
       "      <td>51</td>\n",
       "      <td>1</td>\n",
       "      <td>39.70</td>\n",
       "      <td>1</td>\n",
       "    </tr>\n",
       "  </tbody>\n",
       "</table>\n",
       "</div>"
      ],
      "text/plain": [
       "     region  age  sex    bmi  children\n",
       "744       1   50    1  26.41         0\n",
       "363       3   21    0  26.40         1\n",
       "10        0   25    1  26.22         0\n",
       "970       2   50    0  28.16         3\n",
       "634       3   51    1  39.70         1"
      ]
     },
     "execution_count": 15,
     "metadata": {},
     "output_type": "execute_result"
    }
   ],
   "source": [
    "xtrain.head()"
   ]
  },
  {
   "cell_type": "markdown",
   "id": "079990f5",
   "metadata": {},
   "source": [
    "# fit train data"
   ]
  },
  {
   "cell_type": "code",
   "execution_count": 16,
   "id": "905a31f0",
   "metadata": {},
   "outputs": [
    {
     "data": {
      "text/plain": [
       "DecisionTreeClassifier()"
      ]
     },
     "execution_count": 16,
     "metadata": {},
     "output_type": "execute_result"
    }
   ],
   "source": [
    "clf.fit(xtrain,ytrain)"
   ]
  },
  {
   "cell_type": "code",
   "execution_count": 17,
   "id": "14142e7d",
   "metadata": {},
   "outputs": [
    {
     "data": {
      "text/plain": [
       "array([1, 1, 0, 1, 0, 0, 0, 0, 0, 0, 0, 0, 0, 0, 0, 0, 0, 0, 0, 0, 1, 0,\n",
       "       0, 0, 0, 0, 0, 0, 0, 0, 0, 1, 0, 0, 1, 0, 1, 1, 0, 1, 0, 0, 0, 0,\n",
       "       0, 1, 0, 0, 0, 0, 1, 0, 0, 1, 0, 0, 0, 0, 0, 0, 1, 0, 0, 0, 0, 0,\n",
       "       0, 0, 0, 0, 0, 0, 0, 0, 0, 0, 0, 0, 0, 1, 0, 0, 0, 1, 0, 0, 0, 0,\n",
       "       0, 1, 0, 1, 1, 0, 0, 0, 0, 0, 0, 0, 0, 0, 0, 0, 0, 0, 0, 0, 0, 0,\n",
       "       0, 0, 1, 0, 0, 1, 0, 0, 1, 0, 0, 1, 0, 0, 0, 1, 0, 0, 0, 0, 0, 0,\n",
       "       1, 0, 0, 0, 0, 0, 0, 1, 0, 0, 0, 0, 0, 0, 0, 0, 0, 1, 0, 0, 0, 0,\n",
       "       0, 0, 1, 0, 0, 0, 1, 0, 1, 0, 1, 0, 0, 0, 0, 1, 0, 0, 0, 0, 0, 1,\n",
       "       0, 0, 0, 0, 1, 0, 0, 0, 0, 1, 0, 0, 0, 1, 1, 1, 0, 0, 0, 0, 0, 0,\n",
       "       0, 0, 0, 0, 0, 1, 0, 1, 1, 1, 0, 0, 0, 0, 1, 0, 0, 1, 1, 1, 0, 0,\n",
       "       0, 0, 1, 0, 0, 0, 0, 0, 0, 0, 0, 0, 1, 0, 0, 0, 0, 0, 0, 1, 0, 0,\n",
       "       1, 1, 0, 0, 1, 0, 0, 0, 0, 0, 0, 1, 1, 0, 1, 0, 0, 0, 0, 0, 0, 0,\n",
       "       0, 0, 1, 1, 0, 0, 0, 0, 0, 0, 0, 1, 0, 0, 1, 0, 1, 0, 0, 0, 0, 0,\n",
       "       0, 0, 1, 0, 0, 0, 0, 0, 1, 0, 0, 0, 0, 1, 1, 1, 0, 0, 1, 1, 1, 0,\n",
       "       1, 0, 1, 1, 0, 0, 0, 1, 0, 0, 1, 0, 0, 0, 1, 0, 0, 0, 0, 0, 0, 0,\n",
       "       0, 0, 0, 1, 1, 0, 0, 0, 1, 0, 0, 1, 0, 0, 0, 1, 1, 0, 0, 0, 0, 0,\n",
       "       0, 0, 0, 0, 0, 1, 0, 0, 0, 0, 1, 0, 0, 0, 0, 0, 0, 0, 0, 0, 0, 0,\n",
       "       0, 0, 1, 0, 1, 1, 1, 0, 0, 0, 0, 0, 1, 1, 0, 0, 0, 0, 0, 0, 0, 1,\n",
       "       0, 0, 0, 0, 0, 0])"
      ]
     },
     "execution_count": 17,
     "metadata": {},
     "output_type": "execute_result"
    }
   ],
   "source": [
    "testing= clf.predict(xtest)\n",
    "testing"
   ]
  },
  {
   "cell_type": "code",
   "execution_count": 18,
   "id": "73797cc0",
   "metadata": {},
   "outputs": [
    {
     "data": {
      "text/plain": [
       "array([0, 0, 0, 0, 0, 1, 0, 0, 0, 1, 0, 0, 0, 0, 0, 0, 0, 0, 0, 0, 0, 1,\n",
       "       0, 0, 0, 0, 0, 0, 0, 0, 0, 0, 1, 1, 1, 0, 1, 1, 0, 1, 0, 0, 0, 0,\n",
       "       0, 0, 0, 1, 0, 0, 0, 0, 0, 0, 1, 0, 1, 0, 0, 0, 0, 0, 1, 0, 0, 0,\n",
       "       0, 0, 0, 1, 1, 1, 0, 0, 0, 1, 0, 0, 0, 0, 0, 0, 0, 0, 1, 1, 0, 1,\n",
       "       0, 0, 1, 1, 0, 0, 0, 0, 0, 0, 0, 0, 0, 1, 1, 1, 1, 1, 0, 0, 0, 0,\n",
       "       0, 0, 0, 0, 0, 0, 0, 0, 0, 0, 0, 0, 0, 0, 1, 0, 0, 1, 1, 0, 1, 0,\n",
       "       0, 1, 0, 0, 0, 0, 0, 0, 0, 0, 1, 0, 0, 0, 0, 0, 0, 0, 0, 0, 0, 0,\n",
       "       0, 0, 0, 0, 0, 0, 0, 1, 0, 0, 0, 0, 1, 0, 0, 0, 0, 0, 1, 1, 0, 0,\n",
       "       0, 0, 0, 0, 0, 0, 0, 0, 0, 1, 0, 0, 0, 0, 0, 1, 0, 0, 0, 0, 0, 0,\n",
       "       0, 0, 0, 0, 0, 0, 0, 0, 0, 0, 0, 0, 0, 1, 0, 0, 0, 1, 0, 1, 0, 1,\n",
       "       0, 1, 0, 0, 0, 0, 0, 0, 1, 0, 0, 0, 1, 0, 0, 0, 1, 0, 0, 0, 0, 0,\n",
       "       0, 0, 0, 1, 0, 0, 0, 0, 0, 0, 0, 0, 0, 0, 1, 1, 0, 1, 0, 0, 0, 1,\n",
       "       1, 1, 0, 0, 0, 0, 0, 0, 0, 0, 0, 1, 0, 0, 1, 1, 0, 0, 0, 0, 0, 0,\n",
       "       0, 0, 0, 0, 0, 0, 0, 0, 0, 1, 0, 0, 0, 0, 0, 0, 0, 0, 0, 1, 0, 0,\n",
       "       0, 0, 0, 0, 1, 0, 0, 0, 0, 0, 0, 0, 0, 1, 0, 0, 0, 0, 0, 0, 0, 1,\n",
       "       0, 0, 0, 0, 0, 0, 0, 0, 0, 0, 1, 0, 1, 0, 0, 1, 0, 0, 0, 0, 0, 0,\n",
       "       0, 1, 1, 0, 0, 1, 0, 0, 0, 0, 0, 0, 0, 0, 1, 1, 0, 1, 1, 0, 0, 0,\n",
       "       0, 0, 0, 0, 0, 0, 0, 1, 1, 1, 0, 0, 0, 0, 0, 0, 1, 1, 0, 1, 1, 1,\n",
       "       0, 0, 0, 0, 1, 0])"
      ]
     },
     "execution_count": 18,
     "metadata": {},
     "output_type": "execute_result"
    }
   ],
   "source": [
    "import numpy as np\n",
    "np.array(ytest)"
   ]
  },
  {
   "cell_type": "code",
   "execution_count": 19,
   "id": "59cc1130",
   "metadata": {},
   "outputs": [
    {
     "data": {
      "text/plain": [
       "array([0])"
      ]
     },
     "execution_count": 19,
     "metadata": {},
     "output_type": "execute_result"
    }
   ],
   "source": [
    "clf.predict([[3, 55, 0, 26.22, 0]]) #region, age, sex, bmi, children"
   ]
  },
  {
   "cell_type": "code",
   "execution_count": 20,
   "id": "490c94fb",
   "metadata": {},
   "outputs": [
    {
     "data": {
      "text/plain": [
       "0.9989316239316239"
      ]
     },
     "execution_count": 20,
     "metadata": {},
     "output_type": "execute_result"
    }
   ],
   "source": [
    "clf.score(xtrain,ytrain)"
   ]
  },
  {
   "cell_type": "code",
   "execution_count": 21,
   "id": "bfecc448",
   "metadata": {},
   "outputs": [
    {
     "data": {
      "text/plain": [
       "0.664179104477612"
      ]
     },
     "execution_count": 21,
     "metadata": {},
     "output_type": "execute_result"
    }
   ],
   "source": [
    "clf.score(xtest, ytest)"
   ]
  },
  {
   "cell_type": "code",
   "execution_count": 22,
   "id": "3c711a66",
   "metadata": {},
   "outputs": [
    {
     "data": {
      "text/plain": [
       "0.898355754857997"
      ]
     },
     "execution_count": 22,
     "metadata": {},
     "output_type": "execute_result"
    }
   ],
   "source": [
    "clf.score(X,y)"
   ]
  },
  {
   "cell_type": "markdown",
   "id": "b3256d63",
   "metadata": {},
   "source": [
    "# Graphical representation"
   ]
  },
  {
   "cell_type": "code",
   "execution_count": 23,
   "id": "3617763a",
   "metadata": {},
   "outputs": [],
   "source": [
    "from sklearn import tree"
   ]
  },
  {
   "cell_type": "code",
   "execution_count": 24,
   "id": "164a2efc",
   "metadata": {},
   "outputs": [
    {
     "data": {
      "text/plain": [
       "[Text(383.2689362582782, 1330.6875, 'sex <= 0.5\\ngini = 0.327\\nsamples = 936\\nvalue = [743, 193]'),\n",
       " Text(235.72863203642385, 1274.0625, 'bmi <= 22.605\\ngini = 0.294\\nsamples = 457\\nvalue = [375, 82]'),\n",
       " Text(64.05298013245033, 1217.4375, 'age <= 45.0\\ngini = 0.449\\nsamples = 47\\nvalue = [31, 16]'),\n",
       " Text(59.12582781456954, 1160.8125, 'age <= 38.5\\ngini = 0.48\\nsamples = 40\\nvalue = [24, 16]'),\n",
       " Text(34.49006622516556, 1104.1875, 'bmi <= 21.47\\ngini = 0.451\\nsamples = 35\\nvalue = [23, 12]'),\n",
       " Text(14.781456953642385, 1047.5625, 'children <= 1.5\\ngini = 0.332\\nsamples = 19\\nvalue = [15, 4]'),\n",
       " Text(9.85430463576159, 990.9375, 'gini = 0.0\\nsamples = 10\\nvalue = [10, 0]'),\n",
       " Text(19.70860927152318, 990.9375, 'age <= 28.0\\ngini = 0.494\\nsamples = 9\\nvalue = [5, 4]'),\n",
       " Text(9.85430463576159, 934.3125, 'age <= 24.0\\ngini = 0.375\\nsamples = 4\\nvalue = [1, 3]'),\n",
       " Text(4.927152317880795, 877.6875, 'gini = 0.0\\nsamples = 1\\nvalue = [1, 0]'),\n",
       " Text(14.781456953642385, 877.6875, 'gini = 0.0\\nsamples = 3\\nvalue = [0, 3]'),\n",
       " Text(29.56291390728477, 934.3125, 'bmi <= 18.858\\ngini = 0.32\\nsamples = 5\\nvalue = [4, 1]'),\n",
       " Text(24.635761589403977, 877.6875, 'region <= 0.5\\ngini = 0.5\\nsamples = 2\\nvalue = [1, 1]'),\n",
       " Text(19.70860927152318, 821.0625, 'gini = 0.0\\nsamples = 1\\nvalue = [1, 0]'),\n",
       " Text(29.56291390728477, 821.0625, 'gini = 0.0\\nsamples = 1\\nvalue = [0, 1]'),\n",
       " Text(34.49006622516556, 877.6875, 'gini = 0.0\\nsamples = 3\\nvalue = [3, 0]'),\n",
       " Text(54.19867549668874, 1047.5625, 'bmi <= 21.87\\ngini = 0.5\\nsamples = 16\\nvalue = [8, 8]'),\n",
       " Text(44.34437086092716, 990.9375, 'age <= 30.0\\ngini = 0.245\\nsamples = 7\\nvalue = [1, 6]'),\n",
       " Text(39.41721854304636, 934.3125, 'gini = 0.0\\nsamples = 6\\nvalue = [0, 6]'),\n",
       " Text(49.27152317880795, 934.3125, 'gini = 0.0\\nsamples = 1\\nvalue = [1, 0]'),\n",
       " Text(64.05298013245033, 990.9375, 'bmi <= 22.325\\ngini = 0.346\\nsamples = 9\\nvalue = [7, 2]'),\n",
       " Text(59.12582781456954, 934.3125, 'gini = 0.0\\nsamples = 5\\nvalue = [5, 0]'),\n",
       " Text(68.98013245033113, 934.3125, 'bmi <= 22.467\\ngini = 0.5\\nsamples = 4\\nvalue = [2, 2]'),\n",
       " Text(64.05298013245033, 877.6875, 'gini = 0.0\\nsamples = 1\\nvalue = [0, 1]'),\n",
       " Text(73.90728476821192, 877.6875, 'children <= 1.0\\ngini = 0.444\\nsamples = 3\\nvalue = [2, 1]'),\n",
       " Text(68.98013245033113, 821.0625, 'gini = 0.0\\nsamples = 2\\nvalue = [2, 0]'),\n",
       " Text(78.83443708609272, 821.0625, 'gini = 0.0\\nsamples = 1\\nvalue = [0, 1]'),\n",
       " Text(83.76158940397352, 1104.1875, 'children <= 1.5\\ngini = 0.32\\nsamples = 5\\nvalue = [1, 4]'),\n",
       " Text(78.83443708609272, 1047.5625, 'bmi <= 20.995\\ngini = 0.5\\nsamples = 2\\nvalue = [1, 1]'),\n",
       " Text(73.90728476821192, 990.9375, 'gini = 0.0\\nsamples = 1\\nvalue = [0, 1]'),\n",
       " Text(83.76158940397352, 990.9375, 'gini = 0.0\\nsamples = 1\\nvalue = [1, 0]'),\n",
       " Text(88.68874172185431, 1047.5625, 'gini = 0.0\\nsamples = 3\\nvalue = [0, 3]'),\n",
       " Text(68.98013245033113, 1160.8125, 'gini = 0.0\\nsamples = 7\\nvalue = [7, 0]'),\n",
       " Text(407.40428394039736, 1217.4375, 'bmi <= 47.08\\ngini = 0.27\\nsamples = 410\\nvalue = [344, 66]'),\n",
       " Text(402.4771316225166, 1160.8125, 'bmi <= 38.528\\ngini = 0.265\\nsamples = 408\\nvalue = [344, 64]'),\n",
       " Text(359.0469784768212, 1104.1875, 'age <= 62.5\\ngini = 0.281\\nsamples = 367\\nvalue = [305, 62]'),\n",
       " Text(296.82243377483445, 1047.5625, 'bmi <= 38.385\\ngini = 0.27\\nsamples = 355\\nvalue = [298, 57]'),\n",
       " Text(291.8952814569537, 990.9375, 'bmi <= 34.59\\ngini = 0.266\\nsamples = 354\\nvalue = [298, 56]'),\n",
       " Text(208.0951986754967, 934.3125, 'region <= 2.5\\ngini = 0.243\\nsamples = 289\\nvalue = [248, 41]'),\n",
       " Text(115.6341059602649, 877.6875, 'bmi <= 26.303\\ngini = 0.268\\nsamples = 213\\nvalue = [179, 34]'),\n",
       " Text(88.68874172185431, 821.0625, 'bmi <= 26.03\\ngini = 0.375\\nsamples = 48\\nvalue = [36, 12]'),\n",
       " Text(83.76158940397352, 764.4375, 'bmi <= 23.323\\ngini = 0.34\\nsamples = 46\\nvalue = [36, 10]'),\n",
       " Text(78.83443708609272, 707.8125, 'gini = 0.0\\nsamples = 11\\nvalue = [11, 0]'),\n",
       " Text(88.68874172185431, 707.8125, 'age <= 52.5\\ngini = 0.408\\nsamples = 35\\nvalue = [25, 10]'),\n",
       " Text(83.76158940397352, 651.1875, 'age <= 35.5\\ngini = 0.444\\nsamples = 30\\nvalue = [20, 10]'),\n",
       " Text(68.98013245033113, 594.5625, 'children <= 2.5\\ngini = 0.32\\nsamples = 15\\nvalue = [12, 3]'),\n",
       " Text(64.05298013245033, 537.9375, 'region <= 1.5\\ngini = 0.245\\nsamples = 14\\nvalue = [12, 2]'),\n",
       " Text(59.12582781456954, 481.3125, 'gini = 0.0\\nsamples = 8\\nvalue = [8, 0]'),\n",
       " Text(68.98013245033113, 481.3125, 'age <= 29.0\\ngini = 0.444\\nsamples = 6\\nvalue = [4, 2]'),\n",
       " Text(64.05298013245033, 424.6875, 'children <= 0.5\\ngini = 0.444\\nsamples = 3\\nvalue = [1, 2]'),\n",
       " Text(59.12582781456954, 368.0625, 'gini = 0.0\\nsamples = 2\\nvalue = [0, 2]'),\n",
       " Text(68.98013245033113, 368.0625, 'gini = 0.0\\nsamples = 1\\nvalue = [1, 0]'),\n",
       " Text(73.90728476821192, 424.6875, 'gini = 0.0\\nsamples = 3\\nvalue = [3, 0]'),\n",
       " Text(73.90728476821192, 537.9375, 'gini = 0.0\\nsamples = 1\\nvalue = [0, 1]'),\n",
       " Text(98.5430463576159, 594.5625, 'bmi <= 25.19\\ngini = 0.498\\nsamples = 15\\nvalue = [8, 7]'),\n",
       " Text(93.61589403973511, 537.9375, 'region <= 1.5\\ngini = 0.473\\nsamples = 13\\nvalue = [8, 5]'),\n",
       " Text(88.68874172185431, 481.3125, 'bmi <= 24.938\\ngini = 0.5\\nsamples = 10\\nvalue = [5, 5]'),\n",
       " Text(83.76158940397352, 424.6875, 'children <= 4.0\\ngini = 0.469\\nsamples = 8\\nvalue = [3, 5]'),\n",
       " Text(78.83443708609272, 368.0625, 'region <= 0.5\\ngini = 0.408\\nsamples = 7\\nvalue = [2, 5]'),\n",
       " Text(73.90728476821192, 311.4375, 'bmi <= 24.605\\ngini = 0.5\\nsamples = 4\\nvalue = [2, 2]'),\n",
       " Text(68.98013245033113, 254.8125, 'bmi <= 23.845\\ngini = 0.444\\nsamples = 3\\nvalue = [2, 1]'),\n",
       " Text(64.05298013245033, 198.1875, 'age <= 41.0\\ngini = 0.5\\nsamples = 2\\nvalue = [1, 1]'),\n",
       " Text(59.12582781456954, 141.5625, 'gini = 0.0\\nsamples = 1\\nvalue = [1, 0]'),\n",
       " Text(68.98013245033113, 141.5625, 'gini = 0.0\\nsamples = 1\\nvalue = [0, 1]'),\n",
       " Text(73.90728476821192, 198.1875, 'gini = 0.0\\nsamples = 1\\nvalue = [1, 0]'),\n",
       " Text(78.83443708609272, 254.8125, 'gini = 0.0\\nsamples = 1\\nvalue = [0, 1]'),\n",
       " Text(83.76158940397352, 311.4375, 'gini = 0.0\\nsamples = 3\\nvalue = [0, 3]'),\n",
       " Text(88.68874172185431, 368.0625, 'gini = 0.0\\nsamples = 1\\nvalue = [1, 0]'),\n",
       " Text(93.61589403973511, 424.6875, 'gini = 0.0\\nsamples = 2\\nvalue = [2, 0]'),\n",
       " Text(98.5430463576159, 481.3125, 'gini = 0.0\\nsamples = 3\\nvalue = [3, 0]'),\n",
       " Text(103.47019867549669, 537.9375, 'gini = 0.0\\nsamples = 2\\nvalue = [0, 2]'),\n",
       " Text(93.61589403973511, 651.1875, 'gini = 0.0\\nsamples = 5\\nvalue = [5, 0]'),\n",
       " Text(93.61589403973511, 764.4375, 'gini = 0.0\\nsamples = 2\\nvalue = [0, 2]'),\n",
       " Text(142.5794701986755, 821.0625, 'region <= 0.5\\ngini = 0.231\\nsamples = 165\\nvalue = [143, 22]'),\n",
       " Text(113.32450331125828, 764.4375, 'age <= 39.0\\ngini = 0.089\\nsamples = 43\\nvalue = [41, 2]'),\n",
       " Text(108.39735099337749, 707.8125, 'age <= 33.0\\ngini = 0.172\\nsamples = 21\\nvalue = [19, 2]'),\n",
       " Text(103.47019867549669, 651.1875, 'gini = 0.0\\nsamples = 18\\nvalue = [18, 0]'),\n",
       " Text(113.32450331125828, 651.1875, 'bmi <= 32.585\\ngini = 0.444\\nsamples = 3\\nvalue = [1, 2]'),\n",
       " Text(108.39735099337749, 594.5625, 'gini = 0.0\\nsamples = 2\\nvalue = [0, 2]'),\n",
       " Text(118.25165562913908, 594.5625, 'gini = 0.0\\nsamples = 1\\nvalue = [1, 0]'),\n",
       " Text(118.25165562913908, 707.8125, 'gini = 0.0\\nsamples = 22\\nvalue = [22, 0]'),\n",
       " Text(171.83443708609272, 764.4375, 'age <= 23.5\\ngini = 0.274\\nsamples = 122\\nvalue = [102, 20]'),\n",
       " Text(133.03311258278146, 707.8125, 'bmi <= 27.605\\ngini = 0.444\\nsamples = 21\\nvalue = [14, 7]'),\n",
       " Text(128.10596026490066, 651.1875, 'gini = 0.0\\nsamples = 2\\nvalue = [0, 2]'),\n",
       " Text(137.96026490066225, 651.1875, 'age <= 21.5\\ngini = 0.388\\nsamples = 19\\nvalue = [14, 5]'),\n",
       " Text(128.10596026490066, 594.5625, 'children <= 0.5\\ngini = 0.305\\nsamples = 16\\nvalue = [13, 3]'),\n",
       " Text(123.17880794701988, 537.9375, 'bmi <= 28.927\\ngini = 0.42\\nsamples = 10\\nvalue = [7, 3]'),\n",
       " Text(118.25165562913908, 481.3125, 'gini = 0.0\\nsamples = 1\\nvalue = [0, 1]'),\n",
       " Text(128.10596026490066, 481.3125, 'bmi <= 31.975\\ngini = 0.346\\nsamples = 9\\nvalue = [7, 2]'),\n",
       " Text(123.17880794701988, 424.6875, 'gini = 0.0\\nsamples = 5\\nvalue = [5, 0]'),\n",
       " Text(133.03311258278146, 424.6875, 'bmi <= 32.745\\ngini = 0.5\\nsamples = 4\\nvalue = [2, 2]'),\n",
       " Text(128.10596026490066, 368.0625, 'gini = 0.0\\nsamples = 1\\nvalue = [0, 1]'),\n",
       " Text(137.96026490066225, 368.0625, 'age <= 18.5\\ngini = 0.444\\nsamples = 3\\nvalue = [2, 1]'),\n",
       " Text(133.03311258278146, 311.4375, 'gini = 0.0\\nsamples = 1\\nvalue = [1, 0]'),\n",
       " Text(142.88741721854305, 311.4375, 'age <= 19.5\\ngini = 0.5\\nsamples = 2\\nvalue = [1, 1]'),\n",
       " Text(137.96026490066225, 254.8125, 'gini = 0.0\\nsamples = 1\\nvalue = [0, 1]'),\n",
       " Text(147.81456953642385, 254.8125, 'gini = 0.0\\nsamples = 1\\nvalue = [1, 0]'),\n",
       " Text(133.03311258278146, 537.9375, 'gini = 0.0\\nsamples = 6\\nvalue = [6, 0]'),\n",
       " Text(147.81456953642385, 594.5625, 'bmi <= 29.61\\ngini = 0.444\\nsamples = 3\\nvalue = [1, 2]'),\n",
       " Text(142.88741721854305, 537.9375, 'gini = 0.0\\nsamples = 1\\nvalue = [1, 0]'),\n",
       " Text(152.74172185430464, 537.9375, 'gini = 0.0\\nsamples = 2\\nvalue = [0, 2]'),\n",
       " Text(210.63576158940398, 707.8125, 'age <= 56.5\\ngini = 0.224\\nsamples = 101\\nvalue = [88, 13]'),\n",
       " Text(179.841059602649, 651.1875, 'age <= 28.5\\ngini = 0.172\\nsamples = 84\\nvalue = [76, 8]'),\n",
       " Text(174.91390728476821, 594.5625, 'gini = 0.0\\nsamples = 14\\nvalue = [14, 0]'),\n",
       " Text(184.7682119205298, 594.5625, 'age <= 29.5\\ngini = 0.202\\nsamples = 70\\nvalue = [62, 8]'),\n",
       " Text(179.841059602649, 537.9375, 'gini = 0.0\\nsamples = 1\\nvalue = [0, 1]'),\n",
       " Text(189.6953642384106, 537.9375, 'bmi <= 32.728\\ngini = 0.182\\nsamples = 69\\nvalue = [62, 7]'),\n",
       " Text(167.52317880794703, 481.3125, 'age <= 30.5\\ngini = 0.135\\nsamples = 55\\nvalue = [51, 4]'),\n",
       " Text(157.66887417218544, 424.6875, 'bmi <= 28.392\\ngini = 0.5\\nsamples = 2\\nvalue = [1, 1]'),\n",
       " Text(152.74172185430464, 368.0625, 'gini = 0.0\\nsamples = 1\\nvalue = [0, 1]'),\n",
       " Text(162.59602649006624, 368.0625, 'gini = 0.0\\nsamples = 1\\nvalue = [1, 0]'),\n",
       " Text(177.37748344370863, 424.6875, 'region <= 1.5\\ngini = 0.107\\nsamples = 53\\nvalue = [50, 3]'),\n",
       " Text(172.45033112582783, 368.0625, 'age <= 47.5\\ngini = 0.198\\nsamples = 27\\nvalue = [24, 3]'),\n",
       " Text(167.52317880794703, 311.4375, 'age <= 46.0\\ngini = 0.266\\nsamples = 19\\nvalue = [16, 3]'),\n",
       " Text(157.66887417218544, 254.8125, 'children <= 1.5\\ngini = 0.208\\nsamples = 17\\nvalue = [15, 2]'),\n",
       " Text(152.74172185430464, 198.1875, 'bmi <= 30.115\\ngini = 0.298\\nsamples = 11\\nvalue = [9, 2]'),\n",
       " Text(142.88741721854305, 141.5625, 'bmi <= 26.648\\ngini = 0.198\\nsamples = 9\\nvalue = [8, 1]'),\n",
       " Text(137.96026490066225, 84.9375, 'bmi <= 26.505\\ngini = 0.444\\nsamples = 3\\nvalue = [2, 1]'),\n",
       " Text(133.03311258278146, 28.3125, 'gini = 0.0\\nsamples = 2\\nvalue = [2, 0]'),\n",
       " Text(142.88741721854305, 28.3125, 'gini = 0.0\\nsamples = 1\\nvalue = [0, 1]'),\n",
       " Text(147.81456953642385, 84.9375, 'gini = 0.0\\nsamples = 6\\nvalue = [6, 0]'),\n",
       " Text(162.59602649006624, 141.5625, 'bmi <= 31.445\\ngini = 0.5\\nsamples = 2\\nvalue = [1, 1]'),\n",
       " Text(157.66887417218544, 84.9375, 'gini = 0.0\\nsamples = 1\\nvalue = [0, 1]'),\n",
       " Text(167.52317880794703, 84.9375, 'gini = 0.0\\nsamples = 1\\nvalue = [1, 0]'),\n",
       " Text(162.59602649006624, 198.1875, 'gini = 0.0\\nsamples = 6\\nvalue = [6, 0]'),\n",
       " Text(177.37748344370863, 254.8125, 'children <= 1.5\\ngini = 0.5\\nsamples = 2\\nvalue = [1, 1]'),\n",
       " Text(172.45033112582783, 198.1875, 'gini = 0.0\\nsamples = 1\\nvalue = [1, 0]'),\n",
       " Text(182.30463576158942, 198.1875, 'gini = 0.0\\nsamples = 1\\nvalue = [0, 1]'),\n",
       " Text(177.37748344370863, 311.4375, 'gini = 0.0\\nsamples = 8\\nvalue = [8, 0]'),\n",
       " Text(182.30463576158942, 368.0625, 'gini = 0.0\\nsamples = 26\\nvalue = [26, 0]'),\n",
       " Text(211.86754966887418, 481.3125, 'bmi <= 33.22\\ngini = 0.337\\nsamples = 14\\nvalue = [11, 3]'),\n",
       " Text(202.01324503311258, 424.6875, 'bmi <= 33.055\\ngini = 0.48\\nsamples = 5\\nvalue = [3, 2]'),\n",
       " Text(197.0860927152318, 368.0625, 'bmi <= 32.87\\ngini = 0.375\\nsamples = 4\\nvalue = [3, 1]'),\n",
       " Text(192.15894039735102, 311.4375, 'age <= 35.5\\ngini = 0.5\\nsamples = 2\\nvalue = [1, 1]'),\n",
       " Text(187.23178807947022, 254.8125, 'gini = 0.0\\nsamples = 1\\nvalue = [1, 0]'),\n",
       " Text(197.0860927152318, 254.8125, 'gini = 0.0\\nsamples = 1\\nvalue = [0, 1]'),\n",
       " Text(202.01324503311258, 311.4375, 'gini = 0.0\\nsamples = 2\\nvalue = [2, 0]'),\n",
       " Text(206.94039735099338, 368.0625, 'gini = 0.0\\nsamples = 1\\nvalue = [0, 1]'),\n",
       " Text(221.72185430463577, 424.6875, 'age <= 36.0\\ngini = 0.198\\nsamples = 9\\nvalue = [8, 1]'),\n",
       " Text(216.79470198675497, 368.0625, 'region <= 1.5\\ngini = 0.444\\nsamples = 3\\nvalue = [2, 1]'),\n",
       " Text(211.86754966887418, 311.4375, 'gini = 0.0\\nsamples = 1\\nvalue = [0, 1]'),\n",
       " Text(221.72185430463577, 311.4375, 'gini = 0.0\\nsamples = 2\\nvalue = [2, 0]'),\n",
       " Text(226.64900662251657, 368.0625, 'gini = 0.0\\nsamples = 6\\nvalue = [6, 0]'),\n",
       " Text(241.43046357615896, 651.1875, 'bmi <= 32.565\\ngini = 0.415\\nsamples = 17\\nvalue = [12, 5]'),\n",
       " Text(236.50331125827816, 594.5625, 'bmi <= 28.642\\ngini = 0.473\\nsamples = 13\\nvalue = [8, 5]'),\n",
       " Text(231.57615894039736, 537.9375, 'gini = 0.0\\nsamples = 3\\nvalue = [3, 0]'),\n",
       " Text(241.43046357615896, 537.9375, 'bmi <= 29.865\\ngini = 0.5\\nsamples = 10\\nvalue = [5, 5]'),\n",
       " Text(236.50331125827816, 481.3125, 'gini = 0.0\\nsamples = 2\\nvalue = [0, 2]'),\n",
       " Text(246.35761589403975, 481.3125, 'bmi <= 32.138\\ngini = 0.469\\nsamples = 8\\nvalue = [5, 3]'),\n",
       " Text(241.43046357615896, 424.6875, 'children <= 1.5\\ngini = 0.408\\nsamples = 7\\nvalue = [5, 2]'),\n",
       " Text(236.50331125827816, 368.0625, 'age <= 58.0\\ngini = 0.278\\nsamples = 6\\nvalue = [5, 1]'),\n",
       " Text(231.57615894039736, 311.4375, 'bmi <= 30.828\\ngini = 0.444\\nsamples = 3\\nvalue = [2, 1]'),\n",
       " Text(226.64900662251657, 254.8125, 'gini = 0.0\\nsamples = 1\\nvalue = [1, 0]'),\n",
       " Text(236.50331125827816, 254.8125, 'bmi <= 31.493\\ngini = 0.5\\nsamples = 2\\nvalue = [1, 1]'),\n",
       " Text(231.57615894039736, 198.1875, 'gini = 0.0\\nsamples = 1\\nvalue = [0, 1]'),\n",
       " Text(241.43046357615896, 198.1875, 'gini = 0.0\\nsamples = 1\\nvalue = [1, 0]'),\n",
       " Text(241.43046357615896, 311.4375, 'gini = 0.0\\nsamples = 3\\nvalue = [3, 0]'),\n",
       " Text(246.35761589403975, 368.0625, 'gini = 0.0\\nsamples = 1\\nvalue = [0, 1]'),\n",
       " Text(251.28476821192055, 424.6875, 'gini = 0.0\\nsamples = 1\\nvalue = [0, 1]'),\n",
       " Text(246.35761589403975, 594.5625, 'gini = 0.0\\nsamples = 4\\nvalue = [4, 0]'),\n",
       " Text(300.5562913907285, 877.6875, 'age <= 27.5\\ngini = 0.167\\nsamples = 76\\nvalue = [69, 7]'),\n",
       " Text(280.84768211920533, 821.0625, 'bmi <= 30.15\\ngini = 0.332\\nsamples = 19\\nvalue = [15, 4]'),\n",
       " Text(270.99337748344374, 764.4375, 'age <= 19.5\\ngini = 0.124\\nsamples = 15\\nvalue = [14, 1]'),\n",
       " Text(266.0662251655629, 707.8125, 'bmi <= 28.15\\ngini = 0.32\\nsamples = 5\\nvalue = [4, 1]'),\n",
       " Text(261.13907284768214, 651.1875, 'bmi <= 25.65\\ngini = 0.5\\nsamples = 2\\nvalue = [1, 1]'),\n",
       " Text(256.2119205298013, 594.5625, 'gini = 0.0\\nsamples = 1\\nvalue = [1, 0]'),\n",
       " Text(266.0662251655629, 594.5625, 'gini = 0.0\\nsamples = 1\\nvalue = [0, 1]'),\n",
       " Text(270.99337748344374, 651.1875, 'gini = 0.0\\nsamples = 3\\nvalue = [3, 0]'),\n",
       " Text(275.9205298013245, 707.8125, 'gini = 0.0\\nsamples = 10\\nvalue = [10, 0]'),\n",
       " Text(290.7019867549669, 764.4375, 'bmi <= 32.15\\ngini = 0.375\\nsamples = 4\\nvalue = [1, 3]'),\n",
       " Text(285.7748344370861, 707.8125, 'gini = 0.0\\nsamples = 3\\nvalue = [0, 3]'),\n",
       " Text(295.6291390728477, 707.8125, 'gini = 0.0\\nsamples = 1\\nvalue = [1, 0]'),\n",
       " Text(320.26490066225165, 821.0625, 'bmi <= 33.45\\ngini = 0.1\\nsamples = 57\\nvalue = [54, 3]'),\n",
       " Text(310.4105960264901, 764.4375, 'bmi <= 27.65\\ngini = 0.074\\nsamples = 52\\nvalue = [50, 2]'),\n",
       " Text(305.4834437086093, 707.8125, 'bmi <= 27.55\\ngini = 0.159\\nsamples = 23\\nvalue = [21, 2]'),\n",
       " Text(295.6291390728477, 651.1875, 'children <= 1.5\\ngini = 0.091\\nsamples = 21\\nvalue = [20, 1]'),\n",
       " Text(290.7019867549669, 594.5625, 'gini = 0.0\\nsamples = 15\\nvalue = [15, 0]'),\n",
       " Text(300.5562913907285, 594.5625, 'age <= 37.0\\ngini = 0.278\\nsamples = 6\\nvalue = [5, 1]'),\n",
       " Text(295.6291390728477, 537.9375, 'gini = 0.0\\nsamples = 4\\nvalue = [4, 0]'),\n",
       " Text(305.4834437086093, 537.9375, 'age <= 48.0\\ngini = 0.5\\nsamples = 2\\nvalue = [1, 1]'),\n",
       " Text(300.5562913907285, 481.3125, 'gini = 0.0\\nsamples = 1\\nvalue = [0, 1]'),\n",
       " Text(310.4105960264901, 481.3125, 'gini = 0.0\\nsamples = 1\\nvalue = [1, 0]'),\n",
       " Text(315.3377483443709, 651.1875, 'age <= 44.0\\ngini = 0.5\\nsamples = 2\\nvalue = [1, 1]'),\n",
       " Text(310.4105960264901, 594.5625, 'gini = 0.0\\nsamples = 1\\nvalue = [1, 0]'),\n",
       " Text(320.26490066225165, 594.5625, 'gini = 0.0\\nsamples = 1\\nvalue = [0, 1]'),\n",
       " Text(315.3377483443709, 707.8125, 'gini = 0.0\\nsamples = 29\\nvalue = [29, 0]'),\n",
       " Text(330.11920529801324, 764.4375, 'children <= 0.5\\ngini = 0.32\\nsamples = 5\\nvalue = [4, 1]'),\n",
       " Text(325.1920529801325, 707.8125, 'gini = 0.0\\nsamples = 1\\nvalue = [0, 1]'),\n",
       " Text(335.04635761589407, 707.8125, 'gini = 0.0\\nsamples = 4\\nvalue = [4, 0]'),\n",
       " Text(375.6953642384106, 934.3125, 'bmi <= 35.577\\ngini = 0.355\\nsamples = 65\\nvalue = [50, 15]'),\n",
       " Text(354.75496688741725, 877.6875, 'region <= 0.5\\ngini = 0.484\\nsamples = 17\\nvalue = [10, 7]'),\n",
       " Text(349.82781456953643, 821.0625, 'gini = 0.0\\nsamples = 2\\nvalue = [0, 2]'),\n",
       " Text(359.682119205298, 821.0625, 'bmi <= 35.415\\ngini = 0.444\\nsamples = 15\\nvalue = [10, 5]'),\n",
       " Text(354.75496688741725, 764.4375, 'bmi <= 34.735\\ngini = 0.408\\nsamples = 14\\nvalue = [10, 4]'),\n",
       " Text(344.90066225165566, 707.8125, 'children <= 0.5\\ngini = 0.444\\nsamples = 3\\nvalue = [1, 2]'),\n",
       " Text(339.97350993377484, 651.1875, 'gini = 0.0\\nsamples = 1\\nvalue = [1, 0]'),\n",
       " Text(349.82781456953643, 651.1875, 'gini = 0.0\\nsamples = 2\\nvalue = [0, 2]'),\n",
       " Text(364.60927152317885, 707.8125, 'age <= 36.0\\ngini = 0.298\\nsamples = 11\\nvalue = [9, 2]'),\n",
       " Text(359.682119205298, 651.1875, 'gini = 0.0\\nsamples = 4\\nvalue = [4, 0]'),\n",
       " Text(369.5364238410596, 651.1875, 'age <= 37.5\\ngini = 0.408\\nsamples = 7\\nvalue = [5, 2]'),\n",
       " Text(364.60927152317885, 594.5625, 'gini = 0.0\\nsamples = 1\\nvalue = [0, 1]'),\n",
       " Text(374.46357615894044, 594.5625, 'region <= 2.5\\ngini = 0.278\\nsamples = 6\\nvalue = [5, 1]'),\n",
       " Text(369.5364238410596, 537.9375, 'children <= 0.5\\ngini = 0.444\\nsamples = 3\\nvalue = [2, 1]'),\n",
       " Text(364.60927152317885, 481.3125, 'age <= 57.0\\ngini = 0.5\\nsamples = 2\\nvalue = [1, 1]'),\n",
       " Text(359.682119205298, 424.6875, 'gini = 0.0\\nsamples = 1\\nvalue = [0, 1]'),\n",
       " Text(369.5364238410596, 424.6875, 'gini = 0.0\\nsamples = 1\\nvalue = [1, 0]'),\n",
       " Text(374.46357615894044, 481.3125, 'gini = 0.0\\nsamples = 1\\nvalue = [1, 0]'),\n",
       " Text(379.3907284768212, 537.9375, 'gini = 0.0\\nsamples = 3\\nvalue = [3, 0]'),\n",
       " Text(364.60927152317885, 764.4375, 'gini = 0.0\\nsamples = 1\\nvalue = [0, 1]'),\n",
       " Text(396.635761589404, 877.6875, 'bmi <= 36.603\\ngini = 0.278\\nsamples = 48\\nvalue = [40, 8]'),\n",
       " Text(384.31788079470203, 821.0625, 'age <= 30.0\\ngini = 0.087\\nsamples = 22\\nvalue = [21, 1]'),\n",
       " Text(379.3907284768212, 764.4375, 'bmi <= 36.04\\ngini = 0.375\\nsamples = 4\\nvalue = [3, 1]'),\n",
       " Text(374.46357615894044, 707.8125, 'gini = 0.0\\nsamples = 3\\nvalue = [3, 0]'),\n",
       " Text(384.31788079470203, 707.8125, 'gini = 0.0\\nsamples = 1\\nvalue = [0, 1]'),\n",
       " Text(389.2450331125828, 764.4375, 'gini = 0.0\\nsamples = 18\\nvalue = [18, 0]'),\n",
       " Text(408.953642384106, 821.0625, 'bmi <= 36.908\\ngini = 0.393\\nsamples = 26\\nvalue = [19, 7]'),\n",
       " Text(399.0993377483444, 764.4375, 'age <= 52.0\\ngini = 0.444\\nsamples = 6\\nvalue = [2, 4]'),\n",
       " Text(394.1721854304636, 707.8125, 'age <= 49.0\\ngini = 0.48\\nsamples = 5\\nvalue = [2, 3]'),\n",
       " Text(389.2450331125828, 651.1875, 'bmi <= 36.76\\ngini = 0.375\\nsamples = 4\\nvalue = [1, 3]'),\n",
       " Text(384.31788079470203, 594.5625, 'gini = 0.0\\nsamples = 2\\nvalue = [0, 2]'),\n",
       " Text(394.1721854304636, 594.5625, 'gini = 0.5\\nsamples = 2\\nvalue = [1, 1]'),\n",
       " Text(399.0993377483444, 651.1875, 'gini = 0.0\\nsamples = 1\\nvalue = [1, 0]'),\n",
       " Text(404.02649006622516, 707.8125, 'gini = 0.0\\nsamples = 1\\nvalue = [0, 1]'),\n",
       " Text(418.8079470198676, 764.4375, 'age <= 43.0\\ngini = 0.255\\nsamples = 20\\nvalue = [17, 3]'),\n",
       " Text(413.88079470198676, 707.8125, 'gini = 0.0\\nsamples = 11\\nvalue = [11, 0]'),\n",
       " Text(423.73509933774835, 707.8125, 'age <= 51.5\\ngini = 0.444\\nsamples = 9\\nvalue = [6, 3]'),\n",
       " Text(418.8079470198676, 651.1875, 'bmi <= 37.895\\ngini = 0.48\\nsamples = 5\\nvalue = [2, 3]'),\n",
       " Text(413.88079470198676, 594.5625, 'children <= 2.0\\ngini = 0.444\\nsamples = 3\\nvalue = [2, 1]'),\n",
       " Text(408.953642384106, 537.9375, 'gini = 0.0\\nsamples = 2\\nvalue = [2, 0]'),\n",
       " Text(418.8079470198676, 537.9375, 'gini = 0.0\\nsamples = 1\\nvalue = [0, 1]'),\n",
       " Text(423.73509933774835, 594.5625, 'gini = 0.0\\nsamples = 2\\nvalue = [0, 2]'),\n",
       " Text(428.6622516556292, 651.1875, 'gini = 0.0\\nsamples = 4\\nvalue = [4, 0]'),\n",
       " Text(301.7495860927153, 990.9375, 'gini = 0.0\\nsamples = 1\\nvalue = [0, 1]'),\n",
       " Text(421.27152317880797, 1047.5625, 'region <= 2.5\\ngini = 0.486\\nsamples = 12\\nvalue = [7, 5]'),\n",
       " Text(416.3443708609272, 990.9375, 'bmi <= 28.547\\ngini = 0.346\\nsamples = 9\\nvalue = [7, 2]'),\n",
       " Text(411.4172185430464, 934.3125, 'bmi <= 26.552\\ngini = 0.5\\nsamples = 4\\nvalue = [2, 2]'),\n",
       " Text(406.4900662251656, 877.6875, 'gini = 0.0\\nsamples = 2\\nvalue = [2, 0]'),\n",
       " Text(416.3443708609272, 877.6875, 'gini = 0.0\\nsamples = 2\\nvalue = [0, 2]'),\n",
       " Text(421.27152317880797, 934.3125, 'gini = 0.0\\nsamples = 5\\nvalue = [5, 0]'),\n",
       " Text(426.1986754966888, 990.9375, 'gini = 0.0\\nsamples = 3\\nvalue = [0, 3]'),\n",
       " Text(445.9072847682119, 1104.1875, 'age <= 24.0\\ngini = 0.093\\nsamples = 41\\nvalue = [39, 2]'),\n",
       " Text(440.98013245033115, 1047.5625, 'bmi <= 41.37\\ngini = 0.346\\nsamples = 9\\nvalue = [7, 2]'),\n",
       " Text(436.05298013245033, 990.9375, 'gini = 0.0\\nsamples = 7\\nvalue = [7, 0]'),\n",
       " Text(445.9072847682119, 990.9375, 'gini = 0.0\\nsamples = 2\\nvalue = [0, 2]'),\n",
       " Text(450.83443708609275, 1047.5625, 'gini = 0.0\\nsamples = 32\\nvalue = [32, 0]'),\n",
       " Text(412.3314362582782, 1160.8125, 'gini = 0.0\\nsamples = 2\\nvalue = [0, 2]'),\n",
       " Text(530.8092404801325, 1274.0625, 'bmi <= 24.602\\ngini = 0.356\\nsamples = 479\\nvalue = [368, 111]'),\n",
       " Text(480.39735099337753, 1217.4375, 'age <= 63.5\\ngini = 0.195\\nsamples = 73\\nvalue = [65, 8]'),\n",
       " Text(475.4701986754967, 1160.8125, 'region <= 2.5\\ngini = 0.176\\nsamples = 72\\nvalue = [65, 7]'),\n",
       " Text(470.54304635761594, 1104.1875, 'region <= 1.5\\ngini = 0.215\\nsamples = 57\\nvalue = [50, 7]'),\n",
       " Text(460.68874172185434, 1047.5625, 'children <= 0.5\\ngini = 0.124\\nsamples = 45\\nvalue = [42, 3]'),\n",
       " Text(455.7615894039735, 990.9375, 'bmi <= 22.943\\ngini = 0.245\\nsamples = 21\\nvalue = [18, 3]'),\n",
       " Text(450.83443708609275, 934.3125, 'bmi <= 22.705\\ngini = 0.355\\nsamples = 13\\nvalue = [10, 3]'),\n",
       " Text(445.9072847682119, 877.6875, 'age <= 18.5\\ngini = 0.165\\nsamples = 11\\nvalue = [10, 1]'),\n",
       " Text(440.98013245033115, 821.0625, 'bmi <= 21.517\\ngini = 0.444\\nsamples = 3\\nvalue = [2, 1]'),\n",
       " Text(436.05298013245033, 764.4375, 'gini = 0.0\\nsamples = 2\\nvalue = [2, 0]'),\n",
       " Text(445.9072847682119, 764.4375, 'gini = 0.0\\nsamples = 1\\nvalue = [0, 1]'),\n",
       " Text(450.83443708609275, 821.0625, 'gini = 0.0\\nsamples = 8\\nvalue = [8, 0]'),\n",
       " Text(455.7615894039735, 877.6875, 'gini = 0.0\\nsamples = 2\\nvalue = [0, 2]'),\n",
       " Text(460.68874172185434, 934.3125, 'gini = 0.0\\nsamples = 8\\nvalue = [8, 0]'),\n",
       " Text(465.6158940397351, 990.9375, 'gini = 0.0\\nsamples = 24\\nvalue = [24, 0]'),\n",
       " Text(480.39735099337753, 1047.5625, 'bmi <= 20.57\\ngini = 0.444\\nsamples = 12\\nvalue = [8, 4]'),\n",
       " Text(475.4701986754967, 990.9375, 'gini = 0.0\\nsamples = 2\\nvalue = [0, 2]'),\n",
       " Text(485.3245033112583, 990.9375, 'age <= 27.5\\ngini = 0.32\\nsamples = 10\\nvalue = [8, 2]'),\n",
       " Text(480.39735099337753, 934.3125, 'gini = 0.0\\nsamples = 5\\nvalue = [5, 0]'),\n",
       " Text(490.2516556291391, 934.3125, 'bmi <= 22.495\\ngini = 0.48\\nsamples = 5\\nvalue = [3, 2]'),\n",
       " Text(485.3245033112583, 877.6875, 'gini = 0.0\\nsamples = 2\\nvalue = [2, 0]'),\n",
       " Text(495.1788079470199, 877.6875, 'bmi <= 24.145\\ngini = 0.444\\nsamples = 3\\nvalue = [1, 2]'),\n",
       " Text(490.2516556291391, 821.0625, 'gini = 0.0\\nsamples = 2\\nvalue = [0, 2]'),\n",
       " Text(500.1059602649007, 821.0625, 'gini = 0.0\\nsamples = 1\\nvalue = [1, 0]'),\n",
       " Text(480.39735099337753, 1104.1875, 'gini = 0.0\\nsamples = 15\\nvalue = [15, 0]'),\n",
       " Text(485.3245033112583, 1160.8125, 'gini = 0.0\\nsamples = 1\\nvalue = [0, 1]'),\n",
       " Text(581.2211299668875, 1217.4375, 'bmi <= 24.828\\ngini = 0.379\\nsamples = 406\\nvalue = [303, 103]'),\n",
       " Text(519.8145695364238, 1160.8125, 'children <= 2.5\\ngini = 0.49\\nsamples = 7\\nvalue = [3, 4]'),\n",
       " Text(514.8874172185431, 1104.1875, 'age <= 55.0\\ngini = 0.444\\nsamples = 6\\nvalue = [2, 4]'),\n",
       " Text(509.9602649006623, 1047.5625, 'age <= 37.5\\ngini = 0.32\\nsamples = 5\\nvalue = [1, 4]'),\n",
       " Text(505.0331125827815, 990.9375, 'region <= 0.5\\ngini = 0.5\\nsamples = 2\\nvalue = [1, 1]'),\n",
       " Text(500.1059602649007, 934.3125, 'gini = 0.0\\nsamples = 1\\nvalue = [0, 1]'),\n",
       " Text(509.9602649006623, 934.3125, 'gini = 0.0\\nsamples = 1\\nvalue = [1, 0]'),\n",
       " Text(514.8874172185431, 990.9375, 'gini = 0.0\\nsamples = 3\\nvalue = [0, 3]'),\n",
       " Text(519.8145695364238, 1047.5625, 'gini = 0.0\\nsamples = 1\\nvalue = [1, 0]'),\n",
       " Text(524.7417218543046, 1104.1875, 'gini = 0.0\\nsamples = 1\\nvalue = [1, 0]'),\n",
       " Text(642.627690397351, 1160.8125, 'bmi <= 27.673\\ngini = 0.373\\nsamples = 399\\nvalue = [300, 99]'),\n",
       " Text(553.0728476821192, 1104.1875, 'region <= 2.5\\ngini = 0.284\\nsamples = 70\\nvalue = [58, 12]'),\n",
       " Text(537.0596026490067, 1047.5625, 'age <= 37.5\\ngini = 0.222\\nsamples = 55\\nvalue = [48, 7]'),\n",
       " Text(524.7417218543046, 990.9375, 'bmi <= 25.222\\ngini = 0.08\\nsamples = 24\\nvalue = [23, 1]'),\n",
       " Text(519.8145695364238, 934.3125, 'age <= 20.0\\ngini = 0.444\\nsamples = 3\\nvalue = [2, 1]'),\n",
       " Text(514.8874172185431, 877.6875, 'gini = 0.0\\nsamples = 1\\nvalue = [0, 1]'),\n",
       " Text(524.7417218543046, 877.6875, 'gini = 0.0\\nsamples = 2\\nvalue = [2, 0]'),\n",
       " Text(529.6688741721855, 934.3125, 'gini = 0.0\\nsamples = 21\\nvalue = [21, 0]'),\n",
       " Text(549.3774834437087, 990.9375, 'bmi <= 26.658\\ngini = 0.312\\nsamples = 31\\nvalue = [25, 6]'),\n",
       " Text(539.523178807947, 934.3125, 'age <= 49.5\\ngini = 0.252\\nsamples = 27\\nvalue = [23, 4]'),\n",
       " Text(534.5960264900663, 877.6875, 'age <= 46.5\\ngini = 0.375\\nsamples = 16\\nvalue = [12, 4]'),\n",
       " Text(524.7417218543046, 821.0625, 'bmi <= 26.05\\ngini = 0.278\\nsamples = 12\\nvalue = [10, 2]'),\n",
       " Text(519.8145695364238, 764.4375, 'gini = 0.0\\nsamples = 6\\nvalue = [6, 0]'),\n",
       " Text(529.6688741721855, 764.4375, 'children <= 0.5\\ngini = 0.444\\nsamples = 6\\nvalue = [4, 2]'),\n",
       " Text(524.7417218543046, 707.8125, 'gini = 0.0\\nsamples = 1\\nvalue = [0, 1]'),\n",
       " Text(534.5960264900663, 707.8125, 'bmi <= 26.097\\ngini = 0.32\\nsamples = 5\\nvalue = [4, 1]'),\n",
       " Text(529.6688741721855, 651.1875, 'gini = 0.0\\nsamples = 1\\nvalue = [0, 1]'),\n",
       " Text(539.523178807947, 651.1875, 'gini = 0.0\\nsamples = 4\\nvalue = [4, 0]'),\n",
       " Text(544.4503311258278, 821.0625, 'region <= 0.5\\ngini = 0.5\\nsamples = 4\\nvalue = [2, 2]'),\n",
       " Text(539.523178807947, 764.4375, 'gini = 0.0\\nsamples = 2\\nvalue = [2, 0]'),\n",
       " Text(549.3774834437087, 764.4375, 'gini = 0.0\\nsamples = 2\\nvalue = [0, 2]'),\n",
       " Text(544.4503311258278, 877.6875, 'gini = 0.0\\nsamples = 11\\nvalue = [11, 0]'),\n",
       " Text(559.2317880794702, 934.3125, 'bmi <= 27.075\\ngini = 0.5\\nsamples = 4\\nvalue = [2, 2]'),\n",
       " Text(554.3046357615895, 877.6875, 'gini = 0.0\\nsamples = 2\\nvalue = [0, 2]'),\n",
       " Text(564.158940397351, 877.6875, 'gini = 0.0\\nsamples = 2\\nvalue = [2, 0]'),\n",
       " Text(569.0860927152319, 1047.5625, 'bmi <= 25.25\\ngini = 0.444\\nsamples = 15\\nvalue = [10, 5]'),\n",
       " Text(564.158940397351, 990.9375, 'gini = 0.0\\nsamples = 1\\nvalue = [0, 1]'),\n",
       " Text(574.0132450331126, 990.9375, 'age <= 22.0\\ngini = 0.408\\nsamples = 14\\nvalue = [10, 4]'),\n",
       " Text(569.0860927152319, 934.3125, 'gini = 0.0\\nsamples = 1\\nvalue = [0, 1]'),\n",
       " Text(578.9403973509934, 934.3125, 'bmi <= 27.15\\ngini = 0.355\\nsamples = 13\\nvalue = [10, 3]'),\n",
       " Text(574.0132450331126, 877.6875, 'children <= 0.5\\ngini = 0.444\\nsamples = 9\\nvalue = [6, 3]'),\n",
       " Text(569.0860927152319, 821.0625, 'gini = 0.0\\nsamples = 2\\nvalue = [2, 0]'),\n",
       " Text(578.9403973509934, 821.0625, 'age <= 34.0\\ngini = 0.49\\nsamples = 7\\nvalue = [4, 3]'),\n",
       " Text(569.0860927152319, 764.4375, 'age <= 28.0\\ngini = 0.444\\nsamples = 3\\nvalue = [1, 2]'),\n",
       " Text(564.158940397351, 707.8125, 'gini = 0.0\\nsamples = 1\\nvalue = [1, 0]'),\n",
       " Text(574.0132450331126, 707.8125, 'gini = 0.0\\nsamples = 2\\nvalue = [0, 2]'),\n",
       " Text(588.7947019867551, 764.4375, 'age <= 47.5\\ngini = 0.375\\nsamples = 4\\nvalue = [3, 1]'),\n",
       " Text(583.8675496688742, 707.8125, 'gini = 0.0\\nsamples = 2\\nvalue = [2, 0]'),\n",
       " Text(593.7218543046358, 707.8125, 'age <= 56.5\\ngini = 0.5\\nsamples = 2\\nvalue = [1, 1]'),\n",
       " Text(588.7947019867551, 651.1875, 'gini = 0.0\\nsamples = 1\\nvalue = [0, 1]'),\n",
       " Text(598.6490066225166, 651.1875, 'gini = 0.0\\nsamples = 1\\nvalue = [1, 0]'),\n",
       " Text(583.8675496688742, 877.6875, 'gini = 0.0\\nsamples = 4\\nvalue = [4, 0]'),\n",
       " Text(732.1825331125829, 1104.1875, 'bmi <= 28.305\\ngini = 0.389\\nsamples = 329\\nvalue = [242, 87]'),\n",
       " Text(613.430463576159, 1047.5625, 'age <= 52.5\\ngini = 0.48\\nsamples = 15\\nvalue = [6, 9]'),\n",
       " Text(608.5033112582781, 990.9375, 'region <= 2.0\\ngini = 0.426\\nsamples = 13\\nvalue = [4, 9]'),\n",
       " Text(603.5761589403974, 934.3125, 'age <= 36.0\\ngini = 0.494\\nsamples = 9\\nvalue = [4, 5]'),\n",
       " Text(593.7218543046358, 877.6875, 'children <= 0.5\\ngini = 0.32\\nsamples = 5\\nvalue = [1, 4]'),\n",
       " Text(588.7947019867551, 821.0625, 'gini = 0.0\\nsamples = 1\\nvalue = [1, 0]'),\n",
       " Text(598.6490066225166, 821.0625, 'gini = 0.0\\nsamples = 4\\nvalue = [0, 4]'),\n",
       " Text(613.430463576159, 877.6875, 'bmi <= 28.12\\ngini = 0.375\\nsamples = 4\\nvalue = [3, 1]'),\n",
       " Text(608.5033112582781, 821.0625, 'gini = 0.0\\nsamples = 2\\nvalue = [2, 0]'),\n",
       " Text(618.3576158940398, 821.0625, 'region <= 0.5\\ngini = 0.5\\nsamples = 2\\nvalue = [1, 1]'),\n",
       " Text(613.430463576159, 764.4375, 'gini = 0.0\\nsamples = 1\\nvalue = [1, 0]'),\n",
       " Text(623.2847682119206, 764.4375, 'gini = 0.0\\nsamples = 1\\nvalue = [0, 1]'),\n",
       " Text(613.430463576159, 934.3125, 'gini = 0.0\\nsamples = 4\\nvalue = [0, 4]'),\n",
       " Text(618.3576158940398, 990.9375, 'gini = 0.0\\nsamples = 2\\nvalue = [2, 0]'),\n",
       " Text(850.9346026490067, 1047.5625, 'region <= 0.5\\ngini = 0.373\\nsamples = 314\\nvalue = [236, 78]'),\n",
       " Text(697.1920529801325, 990.9375, 'bmi <= 32.062\\ngini = 0.448\\nsamples = 62\\nvalue = [41, 21]'),\n",
       " Text(670.0927152317881, 934.3125, 'bmi <= 30.637\\ngini = 0.495\\nsamples = 31\\nvalue = [17, 14]'),\n",
       " Text(647.9205298013245, 877.6875, 'age <= 55.0\\ngini = 0.415\\nsamples = 17\\nvalue = [12, 5]'),\n",
       " Text(642.9933774834437, 821.0625, 'children <= 0.5\\ngini = 0.32\\nsamples = 15\\nvalue = [12, 3]'),\n",
       " Text(633.1390728476822, 764.4375, 'bmi <= 30.163\\ngini = 0.48\\nsamples = 5\\nvalue = [3, 2]'),\n",
       " Text(628.2119205298013, 707.8125, 'age <= 21.0\\ngini = 0.444\\nsamples = 3\\nvalue = [1, 2]'),\n",
       " Text(623.2847682119206, 651.1875, 'gini = 0.0\\nsamples = 1\\nvalue = [1, 0]'),\n",
       " Text(633.1390728476822, 651.1875, 'gini = 0.0\\nsamples = 2\\nvalue = [0, 2]'),\n",
       " Text(638.066225165563, 707.8125, 'gini = 0.0\\nsamples = 2\\nvalue = [2, 0]'),\n",
       " Text(652.8476821192054, 764.4375, 'age <= 37.5\\ngini = 0.18\\nsamples = 10\\nvalue = [9, 1]'),\n",
       " Text(647.9205298013245, 707.8125, 'gini = 0.0\\nsamples = 8\\nvalue = [8, 0]'),\n",
       " Text(657.7748344370862, 707.8125, 'age <= 44.0\\ngini = 0.5\\nsamples = 2\\nvalue = [1, 1]'),\n",
       " Text(652.8476821192054, 651.1875, 'gini = 0.0\\nsamples = 1\\nvalue = [0, 1]'),\n",
       " Text(662.7019867549669, 651.1875, 'gini = 0.0\\nsamples = 1\\nvalue = [1, 0]'),\n",
       " Text(652.8476821192054, 821.0625, 'gini = 0.0\\nsamples = 2\\nvalue = [0, 2]'),\n",
       " Text(692.2649006622516, 877.6875, 'age <= 62.5\\ngini = 0.459\\nsamples = 14\\nvalue = [5, 9]'),\n",
       " Text(687.3377483443709, 821.0625, 'age <= 49.0\\ngini = 0.426\\nsamples = 13\\nvalue = [4, 9]'),\n",
       " Text(682.4105960264901, 764.4375, 'age <= 46.0\\ngini = 0.48\\nsamples = 10\\nvalue = [4, 6]'),\n",
       " Text(677.4834437086093, 707.8125, 'children <= 0.5\\ngini = 0.375\\nsamples = 8\\nvalue = [2, 6]'),\n",
       " Text(672.5562913907285, 651.1875, 'age <= 21.0\\ngini = 0.48\\nsamples = 5\\nvalue = [2, 3]'),\n",
       " Text(667.6291390728477, 594.5625, 'gini = 0.0\\nsamples = 2\\nvalue = [0, 2]'),\n",
       " Text(677.4834437086093, 594.5625, 'age <= 23.0\\ngini = 0.444\\nsamples = 3\\nvalue = [2, 1]'),\n",
       " Text(672.5562913907285, 537.9375, 'gini = 0.0\\nsamples = 1\\nvalue = [1, 0]'),\n",
       " Text(682.4105960264901, 537.9375, 'age <= 27.5\\ngini = 0.5\\nsamples = 2\\nvalue = [1, 1]'),\n",
       " Text(677.4834437086093, 481.3125, 'gini = 0.0\\nsamples = 1\\nvalue = [0, 1]'),\n",
       " Text(687.3377483443709, 481.3125, 'gini = 0.0\\nsamples = 1\\nvalue = [1, 0]'),\n",
       " Text(682.4105960264901, 651.1875, 'gini = 0.0\\nsamples = 3\\nvalue = [0, 3]'),\n",
       " Text(687.3377483443709, 707.8125, 'gini = 0.0\\nsamples = 2\\nvalue = [2, 0]'),\n",
       " Text(692.2649006622516, 764.4375, 'gini = 0.0\\nsamples = 3\\nvalue = [0, 3]'),\n",
       " Text(697.1920529801325, 821.0625, 'gini = 0.0\\nsamples = 1\\nvalue = [1, 0]'),\n",
       " Text(724.2913907284768, 934.3125, 'children <= 0.5\\ngini = 0.35\\nsamples = 31\\nvalue = [24, 7]'),\n",
       " Text(711.9735099337748, 877.6875, 'bmi <= 34.39\\ngini = 0.133\\nsamples = 14\\nvalue = [13, 1]'),\n",
       " Text(707.0463576158941, 821.0625, 'age <= 53.5\\ngini = 0.375\\nsamples = 4\\nvalue = [3, 1]'),\n",
       " Text(702.1192052980133, 764.4375, 'gini = 0.0\\nsamples = 1\\nvalue = [0, 1]'),\n",
       " Text(711.9735099337748, 764.4375, 'gini = 0.0\\nsamples = 3\\nvalue = [3, 0]'),\n",
       " Text(716.9006622516557, 821.0625, 'gini = 0.0\\nsamples = 10\\nvalue = [10, 0]'),\n",
       " Text(736.6092715231789, 877.6875, 'bmi <= 33.535\\ngini = 0.457\\nsamples = 17\\nvalue = [11, 6]'),\n",
       " Text(726.7549668874173, 821.0625, 'age <= 48.0\\ngini = 0.245\\nsamples = 7\\nvalue = [6, 1]'),\n",
       " Text(721.8278145695365, 764.4375, 'gini = 0.0\\nsamples = 3\\nvalue = [3, 0]'),\n",
       " Text(731.682119205298, 764.4375, 'bmi <= 32.253\\ngini = 0.375\\nsamples = 4\\nvalue = [3, 1]'),\n",
       " Text(726.7549668874173, 707.8125, 'gini = 0.0\\nsamples = 3\\nvalue = [3, 0]'),\n",
       " Text(736.6092715231789, 707.8125, 'gini = 0.0\\nsamples = 1\\nvalue = [0, 1]'),\n",
       " Text(746.4635761589404, 821.0625, 'bmi <= 34.722\\ngini = 0.5\\nsamples = 10\\nvalue = [5, 5]'),\n",
       " Text(741.5364238410597, 764.4375, 'gini = 0.0\\nsamples = 2\\nvalue = [0, 2]'),\n",
       " Text(751.3907284768212, 764.4375, 'bmi <= 41.562\\ngini = 0.469\\nsamples = 8\\nvalue = [5, 3]'),\n",
       " Text(746.4635761589404, 707.8125, 'age <= 33.5\\ngini = 0.408\\nsamples = 7\\nvalue = [5, 2]'),\n",
       " Text(741.5364238410597, 651.1875, 'gini = 0.0\\nsamples = 2\\nvalue = [2, 0]'),\n",
       " Text(751.3907284768212, 651.1875, 'age <= 36.5\\ngini = 0.48\\nsamples = 5\\nvalue = [3, 2]'),\n",
       " Text(746.4635761589404, 594.5625, 'gini = 0.0\\nsamples = 1\\nvalue = [0, 1]'),\n",
       " Text(756.317880794702, 594.5625, 'children <= 2.0\\ngini = 0.375\\nsamples = 4\\nvalue = [3, 1]'),\n",
       " Text(751.3907284768212, 537.9375, 'gini = 0.0\\nsamples = 3\\nvalue = [3, 0]'),\n",
       " Text(761.2450331125829, 537.9375, 'gini = 0.0\\nsamples = 1\\nvalue = [0, 1]'),\n",
       " Text(756.317880794702, 707.8125, 'gini = 0.0\\nsamples = 1\\nvalue = [0, 1]'),\n",
       " Text(1004.6771523178809, 990.9375, 'age <= 59.5\\ngini = 0.35\\nsamples = 252\\nvalue = [195, 57]'),\n",
       " Text(913.0629139072848, 934.3125, 'age <= 31.5\\ngini = 0.33\\nsamples = 230\\nvalue = [182, 48]'),\n",
       " Text(833.9205298013245, 877.6875, 'bmi <= 35.46\\ngini = 0.399\\nsamples = 91\\nvalue = [66, 25]'),\n",
       " Text(800.6622516556292, 821.0625, 'bmi <= 30.275\\ngini = 0.307\\nsamples = 58\\nvalue = [47, 11]'),\n",
       " Text(785.8807947019868, 764.4375, 'children <= 0.5\\ngini = 0.49\\nsamples = 14\\nvalue = [8, 6]'),\n",
       " Text(776.0264900662252, 707.8125, 'bmi <= 29.023\\ngini = 0.32\\nsamples = 5\\nvalue = [1, 4]'),\n",
       " Text(771.0993377483444, 651.1875, 'bmi <= 28.738\\ngini = 0.5\\nsamples = 2\\nvalue = [1, 1]'),\n",
       " Text(766.1721854304636, 594.5625, 'gini = 0.0\\nsamples = 1\\nvalue = [0, 1]'),\n",
       " Text(776.0264900662252, 594.5625, 'gini = 0.0\\nsamples = 1\\nvalue = [1, 0]'),\n",
       " Text(780.953642384106, 651.1875, 'gini = 0.0\\nsamples = 3\\nvalue = [0, 3]'),\n",
       " Text(795.7350993377484, 707.8125, 'children <= 2.5\\ngini = 0.346\\nsamples = 9\\nvalue = [7, 2]'),\n",
       " Text(790.8079470198676, 651.1875, 'gini = 0.0\\nsamples = 7\\nvalue = [7, 0]'),\n",
       " Text(800.6622516556292, 651.1875, 'gini = 0.0\\nsamples = 2\\nvalue = [0, 2]'),\n",
       " Text(815.4437086092715, 764.4375, 'region <= 1.5\\ngini = 0.201\\nsamples = 44\\nvalue = [39, 5]'),\n",
       " Text(810.5165562913908, 707.8125, 'gini = 0.0\\nsamples = 13\\nvalue = [13, 0]'),\n",
       " Text(820.3708609271524, 707.8125, 'age <= 23.5\\ngini = 0.271\\nsamples = 31\\nvalue = [26, 5]'),\n",
       " Text(810.5165562913908, 651.1875, 'age <= 18.5\\ngini = 0.105\\nsamples = 18\\nvalue = [17, 1]'),\n",
       " Text(805.58940397351, 594.5625, 'bmi <= 32.505\\ngini = 0.375\\nsamples = 4\\nvalue = [3, 1]'),\n",
       " Text(800.6622516556292, 537.9375, 'gini = 0.0\\nsamples = 1\\nvalue = [0, 1]'),\n",
       " Text(810.5165562913908, 537.9375, 'gini = 0.0\\nsamples = 3\\nvalue = [3, 0]'),\n",
       " Text(815.4437086092715, 594.5625, 'gini = 0.0\\nsamples = 14\\nvalue = [14, 0]'),\n",
       " Text(830.225165562914, 651.1875, 'children <= 2.5\\ngini = 0.426\\nsamples = 13\\nvalue = [9, 4]'),\n",
       " Text(825.2980132450332, 594.5625, 'age <= 25.0\\ngini = 0.494\\nsamples = 9\\nvalue = [5, 4]'),\n",
       " Text(820.3708609271524, 537.9375, 'gini = 0.0\\nsamples = 1\\nvalue = [0, 1]'),\n",
       " Text(830.225165562914, 537.9375, 'children <= 1.5\\ngini = 0.469\\nsamples = 8\\nvalue = [5, 3]'),\n",
       " Text(825.2980132450332, 481.3125, 'bmi <= 31.265\\ngini = 0.408\\nsamples = 7\\nvalue = [5, 2]'),\n",
       " Text(815.4437086092715, 424.6875, 'region <= 2.5\\ngini = 0.5\\nsamples = 2\\nvalue = [1, 1]'),\n",
       " Text(810.5165562913908, 368.0625, 'gini = 0.0\\nsamples = 1\\nvalue = [0, 1]'),\n",
       " Text(820.3708609271524, 368.0625, 'gini = 0.0\\nsamples = 1\\nvalue = [1, 0]'),\n",
       " Text(835.1523178807947, 424.6875, 'age <= 28.0\\ngini = 0.32\\nsamples = 5\\nvalue = [4, 1]'),\n",
       " Text(830.225165562914, 368.0625, 'gini = 0.0\\nsamples = 3\\nvalue = [3, 0]'),\n",
       " Text(840.0794701986755, 368.0625, 'bmi <= 32.9\\ngini = 0.5\\nsamples = 2\\nvalue = [1, 1]'),\n",
       " Text(835.1523178807947, 311.4375, 'gini = 0.0\\nsamples = 1\\nvalue = [1, 0]'),\n",
       " Text(845.0066225165564, 311.4375, 'gini = 0.0\\nsamples = 1\\nvalue = [0, 1]'),\n",
       " Text(835.1523178807947, 481.3125, 'gini = 0.0\\nsamples = 1\\nvalue = [0, 1]'),\n",
       " Text(835.1523178807947, 594.5625, 'gini = 0.0\\nsamples = 4\\nvalue = [4, 0]'),\n",
       " Text(867.1788079470199, 821.0625, 'age <= 22.5\\ngini = 0.489\\nsamples = 33\\nvalue = [19, 14]'),\n",
       " Text(849.9337748344371, 764.4375, 'children <= 0.5\\ngini = 0.473\\nsamples = 13\\nvalue = [5, 8]'),\n",
       " Text(845.0066225165564, 707.8125, 'age <= 18.5\\ngini = 0.469\\nsamples = 8\\nvalue = [5, 3]'),\n",
       " Text(840.0794701986755, 651.1875, 'gini = 0.0\\nsamples = 2\\nvalue = [2, 0]'),\n",
       " Text(849.9337748344371, 651.1875, 'age <= 20.0\\ngini = 0.5\\nsamples = 6\\nvalue = [3, 3]'),\n",
       " Text(845.0066225165564, 594.5625, 'gini = 0.0\\nsamples = 2\\nvalue = [0, 2]'),\n",
       " Text(854.8609271523179, 594.5625, 'bmi <= 36.23\\ngini = 0.375\\nsamples = 4\\nvalue = [3, 1]'),\n",
       " Text(849.9337748344371, 537.9375, 'region <= 2.5\\ngini = 0.5\\nsamples = 2\\nvalue = [1, 1]'),\n",
       " Text(845.0066225165564, 481.3125, 'gini = 0.0\\nsamples = 1\\nvalue = [1, 0]'),\n",
       " Text(854.8609271523179, 481.3125, 'gini = 0.0\\nsamples = 1\\nvalue = [0, 1]'),\n",
       " Text(859.7880794701987, 537.9375, 'gini = 0.0\\nsamples = 2\\nvalue = [2, 0]'),\n",
       " Text(854.8609271523179, 707.8125, 'gini = 0.0\\nsamples = 5\\nvalue = [0, 5]'),\n",
       " Text(884.4238410596028, 764.4375, 'bmi <= 35.577\\ngini = 0.42\\nsamples = 20\\nvalue = [14, 6]'),\n",
       " Text(879.4966887417219, 707.8125, 'gini = 0.0\\nsamples = 2\\nvalue = [0, 2]'),\n",
       " Text(889.3509933774835, 707.8125, 'region <= 2.5\\ngini = 0.346\\nsamples = 18\\nvalue = [14, 4]'),\n",
       " Text(879.4966887417219, 651.1875, 'children <= 0.5\\ngini = 0.245\\nsamples = 14\\nvalue = [12, 2]'),\n",
       " Text(874.5695364238411, 594.5625, 'bmi <= 39.105\\ngini = 0.444\\nsamples = 6\\nvalue = [4, 2]'),\n",
       " Text(869.6423841059603, 537.9375, 'gini = 0.0\\nsamples = 3\\nvalue = [3, 0]'),\n",
       " Text(879.4966887417219, 537.9375, 'age <= 23.5\\ngini = 0.444\\nsamples = 3\\nvalue = [1, 2]'),\n",
       " Text(874.5695364238411, 481.3125, 'gini = 0.0\\nsamples = 1\\nvalue = [1, 0]'),\n",
       " Text(884.4238410596028, 481.3125, 'gini = 0.0\\nsamples = 2\\nvalue = [0, 2]'),\n",
       " Text(884.4238410596028, 594.5625, 'gini = 0.0\\nsamples = 8\\nvalue = [8, 0]'),\n",
       " Text(899.205298013245, 651.1875, 'age <= 29.0\\ngini = 0.5\\nsamples = 4\\nvalue = [2, 2]'),\n",
       " Text(894.2781456953643, 594.5625, 'gini = 0.0\\nsamples = 2\\nvalue = [2, 0]'),\n",
       " Text(904.1324503311259, 594.5625, 'gini = 0.0\\nsamples = 2\\nvalue = [0, 2]'),\n",
       " Text(992.205298013245, 877.6875, 'children <= 1.5\\ngini = 0.276\\nsamples = 139\\nvalue = [116, 23]'),\n",
       " Text(954.6357615894041, 821.0625, 'bmi <= 30.95\\ngini = 0.216\\nsamples = 81\\nvalue = [71, 10]'),\n",
       " Text(933.6953642384107, 764.4375, 'bmi <= 30.33\\ngini = 0.365\\nsamples = 25\\nvalue = [19, 6]'),\n",
       " Text(923.841059602649, 707.8125, 'age <= 42.5\\ngini = 0.198\\nsamples = 18\\nvalue = [16, 2]'),\n",
       " Text(918.9139072847682, 651.1875, 'bmi <= 29.9\\ngini = 0.408\\nsamples = 7\\nvalue = [5, 2]'),\n",
       " Text(913.9867549668875, 594.5625, 'age <= 34.5\\ngini = 0.278\\nsamples = 6\\nvalue = [5, 1]'),\n",
       " Text(909.0596026490067, 537.9375, 'children <= 0.5\\ngini = 0.5\\nsamples = 2\\nvalue = [1, 1]'),\n",
       " Text(904.1324503311259, 481.3125, 'gini = 0.0\\nsamples = 1\\nvalue = [1, 0]'),\n",
       " Text(913.9867549668875, 481.3125, 'gini = 0.0\\nsamples = 1\\nvalue = [0, 1]'),\n",
       " Text(918.9139072847682, 537.9375, 'gini = 0.0\\nsamples = 4\\nvalue = [4, 0]'),\n",
       " Text(923.841059602649, 594.5625, 'gini = 0.0\\nsamples = 1\\nvalue = [0, 1]'),\n",
       " Text(928.7682119205299, 651.1875, 'gini = 0.0\\nsamples = 11\\nvalue = [11, 0]'),\n",
       " Text(943.5496688741722, 707.8125, 'age <= 41.0\\ngini = 0.49\\nsamples = 7\\nvalue = [3, 4]'),\n",
       " Text(938.6225165562914, 651.1875, 'age <= 34.5\\ngini = 0.375\\nsamples = 4\\nvalue = [3, 1]'),\n",
       " Text(933.6953642384107, 594.5625, 'gini = 0.0\\nsamples = 1\\nvalue = [0, 1]'),\n",
       " Text(943.5496688741722, 594.5625, 'gini = 0.0\\nsamples = 3\\nvalue = [3, 0]'),\n",
       " Text(948.4768211920531, 651.1875, 'gini = 0.0\\nsamples = 3\\nvalue = [0, 3]'),\n",
       " Text(975.5761589403974, 764.4375, 'age <= 55.5\\ngini = 0.133\\nsamples = 56\\nvalue = [52, 4]'),\n",
       " Text(963.2582781456954, 707.8125, 'age <= 37.5\\ngini = 0.046\\nsamples = 42\\nvalue = [41, 1]'),\n",
       " Text(958.3311258278146, 651.1875, 'age <= 36.5\\ngini = 0.153\\nsamples = 12\\nvalue = [11, 1]'),\n",
       " Text(953.4039735099338, 594.5625, 'gini = 0.0\\nsamples = 10\\nvalue = [10, 0]'),\n",
       " Text(963.2582781456954, 594.5625, 'bmi <= 36.63\\ngini = 0.5\\nsamples = 2\\nvalue = [1, 1]'),\n",
       " Text(958.3311258278146, 537.9375, 'gini = 0.0\\nsamples = 1\\nvalue = [1, 0]'),\n",
       " Text(968.1854304635763, 537.9375, 'gini = 0.0\\nsamples = 1\\nvalue = [0, 1]'),\n",
       " Text(968.1854304635763, 651.1875, 'gini = 0.0\\nsamples = 30\\nvalue = [30, 0]'),\n",
       " Text(987.8940397350993, 707.8125, 'children <= 0.5\\ngini = 0.337\\nsamples = 14\\nvalue = [11, 3]'),\n",
       " Text(978.0397350993378, 651.1875, 'bmi <= 33.677\\ngini = 0.18\\nsamples = 10\\nvalue = [9, 1]'),\n",
       " Text(973.112582781457, 594.5625, 'gini = 0.0\\nsamples = 1\\nvalue = [0, 1]'),\n",
       " Text(982.9668874172186, 594.5625, 'gini = 0.0\\nsamples = 9\\nvalue = [9, 0]'),\n",
       " Text(997.748344370861, 651.1875, 'region <= 1.5\\ngini = 0.5\\nsamples = 4\\nvalue = [2, 2]'),\n",
       " Text(992.8211920529802, 594.5625, 'gini = 0.0\\nsamples = 1\\nvalue = [1, 0]'),\n",
       " Text(1002.6754966887418, 594.5625, 'region <= 2.5\\ngini = 0.444\\nsamples = 3\\nvalue = [1, 2]'),\n",
       " Text(997.748344370861, 537.9375, 'gini = 0.0\\nsamples = 2\\nvalue = [0, 2]'),\n",
       " Text(1007.6026490066225, 537.9375, 'gini = 0.0\\nsamples = 1\\nvalue = [1, 0]'),\n",
       " Text(1029.7748344370862, 821.0625, 'bmi <= 33.088\\ngini = 0.348\\nsamples = 58\\nvalue = [45, 13]'),\n",
       " Text(1017.4569536423842, 764.4375, 'age <= 45.5\\ngini = 0.165\\nsamples = 22\\nvalue = [20, 2]'),\n",
       " Text(1012.5298013245034, 707.8125, 'gini = 0.0\\nsamples = 13\\nvalue = [13, 0]'),\n",
       " Text(1022.384105960265, 707.8125, 'age <= 48.5\\ngini = 0.346\\nsamples = 9\\nvalue = [7, 2]'),\n",
       " Text(1017.4569536423842, 651.1875, 'age <= 46.5\\ngini = 0.444\\nsamples = 3\\nvalue = [1, 2]'),\n",
       " Text(1012.5298013245034, 594.5625, 'gini = 0.0\\nsamples = 1\\nvalue = [0, 1]'),\n",
       " Text(1022.384105960265, 594.5625, 'bmi <= 29.815\\ngini = 0.5\\nsamples = 2\\nvalue = [1, 1]'),\n",
       " Text(1017.4569536423842, 537.9375, 'gini = 0.0\\nsamples = 1\\nvalue = [0, 1]'),\n",
       " Text(1027.3112582781457, 537.9375, 'gini = 0.0\\nsamples = 1\\nvalue = [1, 0]'),\n",
       " Text(1027.3112582781457, 651.1875, 'gini = 0.0\\nsamples = 6\\nvalue = [6, 0]'),\n",
       " Text(1042.0927152317881, 764.4375, 'age <= 35.5\\ngini = 0.424\\nsamples = 36\\nvalue = [25, 11]'),\n",
       " Text(1037.1655629139073, 707.8125, 'gini = 0.0\\nsamples = 6\\nvalue = [6, 0]'),\n",
       " Text(1047.019867549669, 707.8125, 'bmi <= 34.32\\ngini = 0.464\\nsamples = 30\\nvalue = [19, 11]'),\n",
       " Text(1037.1655629139073, 651.1875, 'age <= 54.5\\ngini = 0.444\\nsamples = 6\\nvalue = [2, 4]'),\n",
       " Text(1032.2384105960266, 594.5625, 'gini = 0.0\\nsamples = 4\\nvalue = [0, 4]'),\n",
       " Text(1042.0927152317881, 594.5625, 'gini = 0.0\\nsamples = 2\\nvalue = [2, 0]'),\n",
       " Text(1056.8741721854306, 651.1875, 'region <= 2.5\\ngini = 0.413\\nsamples = 24\\nvalue = [17, 7]'),\n",
       " Text(1051.9470198675497, 594.5625, 'age <= 42.5\\ngini = 0.475\\nsamples = 18\\nvalue = [11, 7]'),\n",
       " Text(1042.0927152317881, 537.9375, 'children <= 2.5\\ngini = 0.278\\nsamples = 6\\nvalue = [5, 1]'),\n",
       " Text(1037.1655629139073, 481.3125, 'gini = 0.0\\nsamples = 5\\nvalue = [5, 0]'),\n",
       " Text(1047.019867549669, 481.3125, 'gini = 0.0\\nsamples = 1\\nvalue = [0, 1]'),\n",
       " Text(1061.8013245033114, 537.9375, 'age <= 45.5\\ngini = 0.5\\nsamples = 12\\nvalue = [6, 6]'),\n",
       " Text(1056.8741721854306, 481.3125, 'gini = 0.0\\nsamples = 3\\nvalue = [0, 3]'),\n",
       " Text(1066.728476821192, 481.3125, 'bmi <= 40.47\\ngini = 0.444\\nsamples = 9\\nvalue = [6, 3]'),\n",
       " Text(1056.8741721854306, 424.6875, 'age <= 56.5\\ngini = 0.278\\nsamples = 6\\nvalue = [5, 1]'),\n",
       " Text(1051.9470198675497, 368.0625, 'gini = 0.0\\nsamples = 5\\nvalue = [5, 0]'),\n",
       " Text(1061.8013245033114, 368.0625, 'gini = 0.0\\nsamples = 1\\nvalue = [0, 1]'),\n",
       " Text(1076.5827814569536, 424.6875, 'bmi <= 43.12\\ngini = 0.444\\nsamples = 3\\nvalue = [1, 2]'),\n",
       " Text(1071.655629139073, 368.0625, 'gini = 0.0\\nsamples = 2\\nvalue = [0, 2]'),\n",
       " Text(1081.5099337748345, 368.0625, 'gini = 0.0\\nsamples = 1\\nvalue = [1, 0]'),\n",
       " Text(1061.8013245033114, 594.5625, 'gini = 0.0\\nsamples = 6\\nvalue = [6, 0]'),\n",
       " Text(1096.291390728477, 934.3125, 'age <= 61.5\\ngini = 0.483\\nsamples = 22\\nvalue = [13, 9]'),\n",
       " Text(1086.4370860927154, 877.6875, 'bmi <= 39.14\\ngini = 0.42\\nsamples = 10\\nvalue = [3, 7]'),\n",
       " Text(1081.5099337748345, 821.0625, 'bmi <= 37.34\\ngini = 0.469\\nsamples = 8\\nvalue = [3, 5]'),\n",
       " Text(1076.5827814569536, 764.4375, 'region <= 2.5\\ngini = 0.408\\nsamples = 7\\nvalue = [2, 5]'),\n",
       " Text(1071.655629139073, 707.8125, 'gini = 0.0\\nsamples = 3\\nvalue = [0, 3]'),\n",
       " Text(1081.5099337748345, 707.8125, 'children <= 2.0\\ngini = 0.5\\nsamples = 4\\nvalue = [2, 2]'),\n",
       " Text(1076.5827814569536, 651.1875, 'bmi <= 30.85\\ngini = 0.444\\nsamples = 3\\nvalue = [1, 2]'),\n",
       " Text(1071.655629139073, 594.5625, 'gini = 0.0\\nsamples = 1\\nvalue = [1, 0]'),\n",
       " Text(1081.5099337748345, 594.5625, 'gini = 0.0\\nsamples = 2\\nvalue = [0, 2]'),\n",
       " Text(1086.4370860927154, 651.1875, 'gini = 0.0\\nsamples = 1\\nvalue = [1, 0]'),\n",
       " Text(1086.4370860927154, 764.4375, 'gini = 0.0\\nsamples = 1\\nvalue = [1, 0]'),\n",
       " Text(1091.364238410596, 821.0625, 'gini = 0.0\\nsamples = 2\\nvalue = [0, 2]'),\n",
       " Text(1106.1456953642385, 877.6875, 'bmi <= 36.245\\ngini = 0.278\\nsamples = 12\\nvalue = [10, 2]'),\n",
       " Text(1101.2185430463576, 821.0625, 'bmi <= 33.49\\ngini = 0.444\\nsamples = 6\\nvalue = [4, 2]'),\n",
       " Text(1096.291390728477, 764.4375, 'gini = 0.0\\nsamples = 4\\nvalue = [4, 0]'),\n",
       " Text(1106.1456953642385, 764.4375, 'gini = 0.0\\nsamples = 2\\nvalue = [0, 2]'),\n",
       " Text(1111.0728476821193, 821.0625, 'gini = 0.0\\nsamples = 6\\nvalue = [6, 0]')]"
      ]
     },
     "execution_count": 24,
     "metadata": {},
     "output_type": "execute_result"
    },
    {
     "data": {
      "image/png": "[encoded data removed]",
      "text/plain": [
       "<Figure size 1440x1800 with 1 Axes>"
      ]
     },
     "metadata": {
      "needs_background": "light"
     },
     "output_type": "display_data"
    }
   ],
   "source": [
    "plt.figure(figsize= (20,25))\n",
    "tree.plot_tree(clf, filled=True, rounded=True,feature_names= X.columns)"
   ]
  },
  {
   "cell_type": "code",
   "execution_count": null,
   "id": "e783865a",
   "metadata": {},
   "outputs": [],
   "source": []
  },
  {
   "cell_type": "code",
   "execution_count": null,
   "id": "4c8f6474",
   "metadata": {},
   "outputs": [],
   "source": []
  },
  {
   "cell_type": "code",
   "execution_count": 25,
   "id": "43b61b27",
   "metadata": {},
   "outputs": [
    {
     "data": {
      "text/plain": [
       "0    1064\n",
       "1     274\n",
       "Name: smoker, dtype: int64"
      ]
     },
     "execution_count": 25,
     "metadata": {},
     "output_type": "execute_result"
    }
   ],
   "source": [
    "df.smoker.value_counts()"
   ]
  },
  {
   "cell_type": "code",
   "execution_count": 26,
   "id": "08d3a348",
   "metadata": {},
   "outputs": [
    {
     "data": {
      "text/plain": [
       "0.20478325859491778"
      ]
     },
     "execution_count": 26,
     "metadata": {},
     "output_type": "execute_result"
    }
   ],
   "source": [
    "274/(1064+274)"
   ]
  },
  {
   "cell_type": "code",
   "execution_count": 27,
   "id": "cc0205b9",
   "metadata": {},
   "outputs": [
    {
     "data": {
      "text/plain": [
       "<AxesSubplot:xlabel='smoker', ylabel='count'>"
      ]
     },
     "execution_count": 27,
     "metadata": {},
     "output_type": "execute_result"
    },
    {
     "data": {
      "image/png": "[encoded data removed]",
      "text/plain": [
       "<Figure size 432x288 with 1 Axes>"
      ]
     },
     "metadata": {
      "needs_background": "light"
     },
     "output_type": "display_data"
    }
   ],
   "source": [
    "sns.countplot(x='smoker', data= df)"
   ]
  },
  {
   "cell_type": "code",
   "execution_count": 28,
   "id": "373636ce",
   "metadata": {},
   "outputs": [
    {
     "data": {
      "text/plain": [
       "<AxesSubplot:xlabel='count', ylabel='smoker'>"
      ]
     },
     "execution_count": 28,
     "metadata": {},
     "output_type": "execute_result"
    },
    {
     "data": {
      "image/png": "[encoded data removed]",
      "text/plain": [
       "<Figure size 432x288 with 1 Axes>"
      ]
     },
     "metadata": {
      "needs_background": "light"
     },
     "output_type": "display_data"
    }
   ],
   "source": [
    "sns.countplot(y='smoker', data= df)"
   ]
  },
  {
   "cell_type": "code",
   "execution_count": 29,
   "id": "3ddc4da5",
   "metadata": {},
   "outputs": [
    {
     "data": {
      "text/plain": [
       "<AxesSubplot:xlabel='smoker', ylabel='count'>"
      ]
     },
     "execution_count": 29,
     "metadata": {},
     "output_type": "execute_result"
    },
    {
     "data": {
      "image/png": "[encoded data removed]",
      "text/plain": [
       "<Figure size 432x288 with 1 Axes>"
      ]
     },
     "metadata": {
      "needs_background": "light"
     },
     "output_type": "display_data"
    }
   ],
   "source": [
    "sns.countplot(x='smoker', data= df, hue='sex')"
   ]
  },
  {
   "cell_type": "code",
   "execution_count": 30,
   "id": "9501a372",
   "metadata": {},
   "outputs": [
    {
     "data": {
      "text/html": [
       "<div>\n",
       "<style scoped>\n",
       "    .dataframe tbody tr th:only-of-type {\n",
       "        vertical-align: middle;\n",
       "    }\n",
       "\n",
       "    .dataframe tbody tr th {\n",
       "        vertical-align: top;\n",
       "    }\n",
       "\n",
       "    .dataframe thead th {\n",
       "        text-align: right;\n",
       "    }\n",
       "</style>\n",
       "<table border=\"1\" class=\"dataframe\">\n",
       "  <thead>\n",
       "    <tr style=\"text-align: right;\">\n",
       "      <th></th>\n",
       "      <th>region</th>\n",
       "      <th>age</th>\n",
       "      <th>sex</th>\n",
       "      <th>bmi</th>\n",
       "      <th>children</th>\n",
       "      <th>smoker</th>\n",
       "    </tr>\n",
       "  </thead>\n",
       "  <tbody>\n",
       "    <tr>\n",
       "      <th>0</th>\n",
       "      <td>3</td>\n",
       "      <td>19</td>\n",
       "      <td>0</td>\n",
       "      <td>27.900</td>\n",
       "      <td>0</td>\n",
       "      <td>1</td>\n",
       "    </tr>\n",
       "    <tr>\n",
       "      <th>1</th>\n",
       "      <td>2</td>\n",
       "      <td>18</td>\n",
       "      <td>1</td>\n",
       "      <td>33.770</td>\n",
       "      <td>1</td>\n",
       "      <td>0</td>\n",
       "    </tr>\n",
       "    <tr>\n",
       "      <th>2</th>\n",
       "      <td>2</td>\n",
       "      <td>28</td>\n",
       "      <td>1</td>\n",
       "      <td>33.000</td>\n",
       "      <td>3</td>\n",
       "      <td>0</td>\n",
       "    </tr>\n",
       "    <tr>\n",
       "      <th>3</th>\n",
       "      <td>1</td>\n",
       "      <td>33</td>\n",
       "      <td>1</td>\n",
       "      <td>22.705</td>\n",
       "      <td>0</td>\n",
       "      <td>0</td>\n",
       "    </tr>\n",
       "    <tr>\n",
       "      <th>4</th>\n",
       "      <td>1</td>\n",
       "      <td>32</td>\n",
       "      <td>1</td>\n",
       "      <td>28.880</td>\n",
       "      <td>0</td>\n",
       "      <td>0</td>\n",
       "    </tr>\n",
       "  </tbody>\n",
       "</table>\n",
       "</div>"
      ],
      "text/plain": [
       "   region  age  sex     bmi  children  smoker\n",
       "0       3   19    0  27.900         0       1\n",
       "1       2   18    1  33.770         1       0\n",
       "2       2   28    1  33.000         3       0\n",
       "3       1   33    1  22.705         0       0\n",
       "4       1   32    1  28.880         0       0"
      ]
     },
     "execution_count": 30,
     "metadata": {},
     "output_type": "execute_result"
    }
   ],
   "source": [
    "df.head()"
   ]
  },
  {
   "cell_type": "code",
   "execution_count": 31,
   "id": "4afda6c9",
   "metadata": {},
   "outputs": [
    {
     "data": {
      "text/plain": [
       "<AxesSubplot:xlabel='smoker', ylabel='count'>"
      ]
     },
     "execution_count": 31,
     "metadata": {},
     "output_type": "execute_result"
    },
    {
     "data": {
      "image/png": "[encoded data removed]",
      "text/plain": [
       "<Figure size 432x288 with 1 Axes>"
      ]
     },
     "metadata": {
      "needs_background": "light"
     },
     "output_type": "display_data"
    }
   ],
   "source": [
    "sns.countplot(x='smoker', data= df, hue='region')"
   ]
  },
  {
   "cell_type": "code",
   "execution_count": 32,
   "id": "c37f363b",
   "metadata": {},
   "outputs": [
    {
     "data": {
      "text/plain": [
       "<AxesSubplot:xlabel='smoker', ylabel='count'>"
      ]
     },
     "execution_count": 32,
     "metadata": {},
     "output_type": "execute_result"
    },
    {
     "data": {
      "image/png": "[encoded data removed]",
      "text/plain": [
       "<Figure size 432x288 with 1 Axes>"
      ]
     },
     "metadata": {
      "needs_background": "light"
     },
     "output_type": "display_data"
    }
   ],
   "source": [
    "sns.countplot(x='smoker', data= df, hue='children')"
   ]
  },
  {
   "cell_type": "code",
   "execution_count": 33,
   "id": "412bb4a9",
   "metadata": {},
   "outputs": [
    {
     "data": {
      "text/plain": [
       "0    743\n",
       "1    193\n",
       "Name: smoker, dtype: int64"
      ]
     },
     "execution_count": 33,
     "metadata": {},
     "output_type": "execute_result"
    }
   ],
   "source": [
    "ytrain.value_counts()"
   ]
  },
  {
   "cell_type": "code",
   "execution_count": 34,
   "id": "893d17f4",
   "metadata": {},
   "outputs": [
    {
     "data": {
      "text/plain": [
       "0.20619658119658119"
      ]
     },
     "execution_count": 34,
     "metadata": {},
     "output_type": "execute_result"
    }
   ],
   "source": [
    "193/(193+743) #imbalance data"
   ]
  },
  {
   "cell_type": "code",
   "execution_count": 35,
   "id": "d8390c61",
   "metadata": {},
   "outputs": [
    {
     "data": {
      "text/plain": [
       "0    1064\n",
       "1     274\n",
       "Name: smoker, dtype: int64"
      ]
     },
     "execution_count": 35,
     "metadata": {},
     "output_type": "execute_result"
    }
   ],
   "source": [
    "y.value_counts()"
   ]
  },
  {
   "cell_type": "code",
   "execution_count": 36,
   "id": "bdb27634",
   "metadata": {},
   "outputs": [
    {
     "data": {
      "text/plain": [
       "0.20478325859491778"
      ]
     },
     "execution_count": 36,
     "metadata": {},
     "output_type": "execute_result"
    }
   ],
   "source": [
    "274/(1064+274)"
   ]
  },
  {
   "cell_type": "code",
   "execution_count": 37,
   "id": "d34e94af",
   "metadata": {},
   "outputs": [],
   "source": [
    "from sklearn.metrics import classification_report, confusion_matrix, roc_curve, plot_roc_curve"
   ]
  },
  {
   "cell_type": "code",
   "execution_count": 38,
   "id": "2efdbb61",
   "metadata": {},
   "outputs": [
    {
     "name": "stdout",
     "output_type": "stream",
     "text": [
      "              precision    recall  f1-score   support\n",
      "\n",
      "           0       0.80      0.78      0.79       321\n",
      "           1       0.19      0.21      0.20        81\n",
      "\n",
      "    accuracy                           0.66       402\n",
      "   macro avg       0.49      0.49      0.49       402\n",
      "weighted avg       0.67      0.66      0.67       402\n",
      "\n"
     ]
    }
   ],
   "source": [
    "print(classification_report(ytest, testing))"
   ]
  },
  {
   "cell_type": "code",
   "execution_count": 39,
   "id": "de112316",
   "metadata": {},
   "outputs": [
    {
     "data": {
      "text/plain": [
       "array([[250,  71],\n",
       "       [ 64,  17]], dtype=int64)"
      ]
     },
     "execution_count": 39,
     "metadata": {},
     "output_type": "execute_result"
    }
   ],
   "source": [
    "confusion_matrix(ytest, testing)"
   ]
  },
  {
   "cell_type": "code",
   "execution_count": 40,
   "id": "148dee53",
   "metadata": {},
   "outputs": [
    {
     "data": {
      "text/plain": [
       "0.664179104477612"
      ]
     },
     "execution_count": 40,
     "metadata": {},
     "output_type": "execute_result"
    }
   ],
   "source": [
    "(250+17)/(250+17+71+64)"
   ]
  },
  {
   "cell_type": "code",
   "execution_count": 41,
   "id": "6dfc691d",
   "metadata": {},
   "outputs": [],
   "source": [
    "con_mat=confusion_matrix(ytest, testing)"
   ]
  },
  {
   "cell_type": "code",
   "execution_count": 43,
   "id": "dd53efee",
   "metadata": {},
   "outputs": [
    {
     "data": {
      "text/plain": [
       "<AxesSubplot:>"
      ]
     },
     "execution_count": 43,
     "metadata": {},
     "output_type": "execute_result"
    },
    {
     "data": {
      "image/png": "[encoded data removed]",
      "text/plain": [
       "<Figure size 432x288 with 2 Axes>"
      ]
     },
     "metadata": {
      "needs_background": "light"
     },
     "output_type": "display_data"
    }
   ],
   "source": [
    "sns.heatmap(con_mat, annot= True)"
   ]
  },
  {
   "cell_type": "code",
   "execution_count": 44,
   "id": "e9914d33",
   "metadata": {},
   "outputs": [],
   "source": [
    "tp, fn, fp, tn = confusion_matrix(ytest, testing).reshape(-1)"
   ]
  },
  {
   "cell_type": "code",
   "execution_count": 45,
   "id": "c749a1cd",
   "metadata": {},
   "outputs": [
    {
     "data": {
      "text/plain": [
       "250"
      ]
     },
     "execution_count": 45,
     "metadata": {},
     "output_type": "execute_result"
    }
   ],
   "source": [
    "tp"
   ]
  },
  {
   "cell_type": "code",
   "execution_count": 46,
   "id": "fcab8a4a",
   "metadata": {},
   "outputs": [
    {
     "data": {
      "text/plain": [
       "71"
      ]
     },
     "execution_count": 46,
     "metadata": {},
     "output_type": "execute_result"
    }
   ],
   "source": [
    "fn"
   ]
  },
  {
   "cell_type": "code",
   "execution_count": 47,
   "id": "3b97bce6",
   "metadata": {},
   "outputs": [
    {
     "data": {
      "text/plain": [
       "64"
      ]
     },
     "execution_count": 47,
     "metadata": {},
     "output_type": "execute_result"
    }
   ],
   "source": [
    "fp"
   ]
  },
  {
   "cell_type": "code",
   "execution_count": 48,
   "id": "edd6492b",
   "metadata": {},
   "outputs": [
    {
     "data": {
      "text/plain": [
       "17"
      ]
     },
     "execution_count": 48,
     "metadata": {},
     "output_type": "execute_result"
    }
   ],
   "source": [
    "tn"
   ]
  },
  {
   "cell_type": "code",
   "execution_count": 50,
   "id": "ced2f941",
   "metadata": {},
   "outputs": [
    {
     "data": {
      "text/plain": [
       "0.664179104477612"
      ]
     },
     "execution_count": 50,
     "metadata": {},
     "output_type": "execute_result"
    }
   ],
   "source": [
    "Accuracy= (tp+tn)/(tp+tn+fp+fn)\n",
    "Accuracy"
   ]
  },
  {
   "cell_type": "code",
   "execution_count": 52,
   "id": "5329ecbd",
   "metadata": {},
   "outputs": [
    {
     "data": {
      "text/plain": [
       "0.7961783439490446"
      ]
     },
     "execution_count": 52,
     "metadata": {},
     "output_type": "execute_result"
    }
   ],
   "source": [
    "Precision_PPV= tp/(tp+fp)\n",
    "Precision_PPV"
   ]
  },
  {
   "cell_type": "code",
   "execution_count": 53,
   "id": "b087c127",
   "metadata": {},
   "outputs": [
    {
     "data": {
      "text/plain": [
       "0.778816199376947"
      ]
     },
     "execution_count": 53,
     "metadata": {},
     "output_type": "execute_result"
    }
   ],
   "source": [
    "Sensivity_TPR= tp/(tp+fn)\n",
    "Sensivity_TPR"
   ]
  },
  {
   "cell_type": "code",
   "execution_count": 55,
   "id": "e142ac7b",
   "metadata": {},
   "outputs": [
    {
     "data": {
      "text/plain": [
       "0.7901234567901234"
      ]
     },
     "execution_count": 55,
     "metadata": {},
     "output_type": "execute_result"
    }
   ],
   "source": [
    "False_Positive_Rate=fp/(fp+tn)\n",
    "False_Positive_Rate"
   ]
  },
  {
   "cell_type": "code",
   "execution_count": 56,
   "id": "23339535",
   "metadata": {},
   "outputs": [
    {
     "data": {
      "text/plain": [
       "0.7874972716629958"
      ]
     },
     "execution_count": 56,
     "metadata": {},
     "output_type": "execute_result"
    }
   ],
   "source": [
    "F1_measure= (Precision_PPV+Sensivity_TPR)/2\n",
    "F1_measure"
   ]
  },
  {
   "cell_type": "code",
   "execution_count": 58,
   "id": "afaae3db",
   "metadata": {},
   "outputs": [
    {
     "data": {
      "text/plain": [
       "0.7874015748031498"
      ]
     },
     "execution_count": 58,
     "metadata": {},
     "output_type": "execute_result"
    }
   ],
   "source": [
    "F1_Score= (2*Precision_PPV*Sensivity_TPR)/(Precision_PPV+Sensivity_TPR)\n",
    "F1_Score"
   ]
  },
  {
   "cell_type": "code",
   "execution_count": 59,
   "id": "7b3b6a72",
   "metadata": {},
   "outputs": [
    {
     "data": {
      "text/plain": [
       "0.20987654320987653"
      ]
     },
     "execution_count": 59,
     "metadata": {},
     "output_type": "execute_result"
    }
   ],
   "source": [
    "Specificity_TNR= tn/(tn+fp)\n",
    "Specificity_TNR"
   ]
  },
  {
   "cell_type": "code",
   "execution_count": 60,
   "id": "2ecaf344",
   "metadata": {},
   "outputs": [
    {
     "data": {
      "text/plain": [
       "0.6493506493506493"
      ]
     },
     "execution_count": 60,
     "metadata": {},
     "output_type": "execute_result"
    }
   ],
   "source": [
    "Threat_Score_TS= tp/(tp+fn+fp)\n",
    "Threat_Score_TS"
   ]
  },
  {
   "cell_type": "code",
   "execution_count": 61,
   "id": "9c714077",
   "metadata": {},
   "outputs": [
    {
     "data": {
      "text/plain": [
       "0.20382165605095542"
      ]
     },
     "execution_count": 61,
     "metadata": {},
     "output_type": "execute_result"
    }
   ],
   "source": [
    "False_Discovery_Rate= fp/(tp+fp)\n",
    "False_Discovery_Rate"
   ]
  },
  {
   "cell_type": "code",
   "execution_count": 63,
   "id": "90609f85",
   "metadata": {},
   "outputs": [
    {
     "data": {
      "text/plain": [
       "[<matplotlib.lines.Line2D at 0x282723ac520>]"
      ]
     },
     "execution_count": 63,
     "metadata": {},
     "output_type": "execute_result"
    },
    {
     "data": {
      "image/png": "[encoded data removed]",
      "text/plain": [
       "<Figure size 432x288 with 1 Axes>"
      ]
     },
     "metadata": {
      "needs_background": "light"
     },
     "output_type": "display_data"
    }
   ],
   "source": [
    "plot_roc_curve(clf, xtest, ytest)\n",
    "plt.plot([0,1],[0,1])"
   ]
  },
  {
   "cell_type": "code",
   "execution_count": null,
   "id": "f28bfe8c",
   "metadata": {},
   "outputs": [],
   "source": []
  }
 ],
 "metadata": {
  "kernelspec": {
   "display_name": "Python 3 (ipykernel)",
   "language": "python",
   "name": "python3"
  },
  "language_info": {
   "codemirror_mode": {
    "name": "ipython",
    "version": 3
   },
   "file_extension": ".py",
   "mimetype": "text/x-python",
   "name": "python",
   "nbconvert_exporter": "python",
   "pygments_lexer": "ipython3",
   "version": "3.9.7"
  }
 },
 "nbformat": 4,
 "nbformat_minor": 5
}
